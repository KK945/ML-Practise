{
 "cells": [
  {
   "cell_type": "markdown",
   "metadata": {},
   "source": [
    "# WiDS Datathon 2019\n",
    "\n",
    "The challenge is to create a model that predicts the presence of oil palm plantations in satellite imagery. Planet and Figure Eight have generously provided an annotated dataset of satellite images recently taken by Planet satellites. The dataset images are 3-meter spatial resolution, and each is labeled with whether an oil palm plantation appears in the image (0 for no plantation, 1 for any presence of a plantation).\n",
    "\n",
    "The datathon task is to train a model that takes as input a satellite image and outputs a prediction of how likely it is that the image contains an oil palm plantation."
   ]
  },
  {
   "cell_type": "code",
   "execution_count": 1,
   "metadata": {},
   "outputs": [],
   "source": [
    "import numpy as np\n",
    "import pandas as pd\n",
    "import tensorflow as tf\n",
    "import matplotlib.pyplot as plt\n",
    "%matplotlib inline"
   ]
  },
  {
   "cell_type": "code",
   "execution_count": 2,
   "metadata": {},
   "outputs": [],
   "source": [
    "import cv2\n",
    "import os"
   ]
  },
  {
   "cell_type": "code",
   "execution_count": 93,
   "metadata": {},
   "outputs": [],
   "source": [
    "'''Setting up the env'''\n",
    "  \n",
    "TRAIN_DIR = 'C:/Users/Karthika/Desktop/widsdatathon/2019/train_images'\n",
    "TEST_DIR = 'C:/Users/Karthika/Desktop/widsdatathon/2019/leaderboard_test_data'\n",
    "HOLDOUT_DIR = 'C:/Users/Karthika/Desktop/widsdatathon/2019/leaderboard_holdout_data'\n",
    "trainingLabels = pd.read_csv(\"C:/Users/Karthika/Desktop/widsdatathon/2019/traininglabels.csv\",low_memory=False)\n",
    "samplesubmission = pd.read_csv(\"C:/Users/Karthika/Desktop/widsdatathon/2019/SampleSubmission.csv\",low_memory=False)"
   ]
  },
  {
   "cell_type": "code",
   "execution_count": 4,
   "metadata": {},
   "outputs": [],
   "source": [
    "'''Labelling the dataset'''\n",
    "def label_img(img):\n",
    "   label = trainingLabels.loc[trainingLabels['image_id'] == img, 'has_oilpalm'].iloc[0]\n",
    "   score = trainingLabels.loc[trainingLabels['image_id'] == img, 'score'].iloc[0]\n",
    "   return label, score\n"
   ]
  },
  {
   "cell_type": "code",
   "execution_count": 5,
   "metadata": {},
   "outputs": [
    {
     "data": {
      "text/html": [
       "<div>\n",
       "<style scoped>\n",
       "    .dataframe tbody tr th:only-of-type {\n",
       "        vertical-align: middle;\n",
       "    }\n",
       "\n",
       "    .dataframe tbody tr th {\n",
       "        vertical-align: top;\n",
       "    }\n",
       "\n",
       "    .dataframe thead th {\n",
       "        text-align: right;\n",
       "    }\n",
       "</style>\n",
       "<table border=\"1\" class=\"dataframe\">\n",
       "  <thead>\n",
       "    <tr style=\"text-align: right;\">\n",
       "      <th></th>\n",
       "      <th>image_id</th>\n",
       "      <th>has_oilpalm</th>\n",
       "      <th>score</th>\n",
       "    </tr>\n",
       "  </thead>\n",
       "  <tbody>\n",
       "    <tr>\n",
       "      <th>0</th>\n",
       "      <td>img_000002017.jpg</td>\n",
       "      <td>0</td>\n",
       "      <td>0.7895</td>\n",
       "    </tr>\n",
       "    <tr>\n",
       "      <th>1</th>\n",
       "      <td>img_000012017.jpg</td>\n",
       "      <td>0</td>\n",
       "      <td>1.0000</td>\n",
       "    </tr>\n",
       "    <tr>\n",
       "      <th>2</th>\n",
       "      <td>img_000022017.jpg</td>\n",
       "      <td>0</td>\n",
       "      <td>1.0000</td>\n",
       "    </tr>\n",
       "    <tr>\n",
       "      <th>3</th>\n",
       "      <td>img_000072017.jpg</td>\n",
       "      <td>0</td>\n",
       "      <td>1.0000</td>\n",
       "    </tr>\n",
       "    <tr>\n",
       "      <th>4</th>\n",
       "      <td>img_000082017.jpg</td>\n",
       "      <td>0</td>\n",
       "      <td>1.0000</td>\n",
       "    </tr>\n",
       "  </tbody>\n",
       "</table>\n",
       "</div>"
      ],
      "text/plain": [
       "            image_id  has_oilpalm   score\n",
       "0  img_000002017.jpg            0  0.7895\n",
       "1  img_000012017.jpg            0  1.0000\n",
       "2  img_000022017.jpg            0  1.0000\n",
       "3  img_000072017.jpg            0  1.0000\n",
       "4  img_000082017.jpg            0  1.0000"
      ]
     },
     "execution_count": 5,
     "metadata": {},
     "output_type": "execute_result"
    }
   ],
   "source": [
    "trainingLabels.head() # this is how the csv file looks like with top 5 entries"
   ]
  },
  {
   "cell_type": "markdown",
   "metadata": {},
   "source": [
    "For creating training data filename of every image that is loaded is checked in trainingLabels to determine its corresponding label and score "
   ]
  },
  {
   "cell_type": "code",
   "execution_count": 5,
   "metadata": {},
   "outputs": [],
   "source": [
    "'''Creating the training data'''\n",
    "def create_train_data(): \n",
    "    training_data = [] \n",
    "    for img in os.listdir(TRAIN_DIR):\n",
    "        label , score = label_img(img)\n",
    "        path = os.path.join(TRAIN_DIR, img)\n",
    "        image = cv2.imread(path)\n",
    "        training_data.append([np.array(image), label, score]) \n",
    "    np.save('train_data.npy', training_data) \n",
    "    return training_data\n",
    "        "
   ]
  },
  {
   "cell_type": "markdown",
   "metadata": {},
   "source": [
    "Test data for prediction consists of images from both test data and holdout data folders and while loading it is mapped against its filename which shall be used for preparing the submission file"
   ]
  },
  {
   "cell_type": "code",
   "execution_count": 6,
   "metadata": {},
   "outputs": [],
   "source": [
    "'''Processing the given test data'''\n",
    "def process_test_data(): \n",
    "    testing_data = [] \n",
    "    for img in os.listdir(TEST_DIR): \n",
    "        path = os.path.join(TEST_DIR, img)  \n",
    "        image = cv2.imread(path) \n",
    "        testing_data.append([np.array(image), img]) \n",
    "    for img in os.listdir(HOLDOUT_DIR): \n",
    "        path = os.path.join(HOLDOUT_DIR, img)  \n",
    "        image = cv2.imread(path) \n",
    "        testing_data.append([np.array(image), img])      \n",
    "    np.save('test_data.npy', testing_data) \n",
    "    return testing_data "
   ]
  },
  {
   "cell_type": "code",
   "execution_count": 7,
   "metadata": {},
   "outputs": [],
   "source": [
    "train_data = create_train_data() "
   ]
  },
  {
   "cell_type": "markdown",
   "metadata": {},
   "source": [
    "As we notice the shape, we observe there are 15244 images for training of shape 256,256,3 where 3 indicates the rgb channel (in cv2 it is bgr)"
   ]
  },
  {
   "cell_type": "code",
   "execution_count": 10,
   "metadata": {},
   "outputs": [
    {
     "name": "stdout",
     "output_type": "stream",
     "text": [
      "15244\n",
      "(256, 256, 3)\n"
     ]
    }
   ],
   "source": [
    "print(len(train_data))\n",
    "print(train_data[0][0].shape)"
   ]
  },
  {
   "cell_type": "code",
   "execution_count": 11,
   "metadata": {},
   "outputs": [],
   "source": [
    "test_data = process_test_data()"
   ]
  },
  {
   "cell_type": "markdown",
   "metadata": {},
   "source": [
    "We observe 6534 images that needs to be tested"
   ]
  },
  {
   "cell_type": "code",
   "execution_count": 12,
   "metadata": {},
   "outputs": [
    {
     "name": "stdout",
     "output_type": "stream",
     "text": [
      "6534\n",
      "(256, 256, 3)\n"
     ]
    }
   ],
   "source": [
    "print(len(test_data))\n",
    "print(test_data[0][0].shape)"
   ]
  },
  {
   "cell_type": "markdown",
   "metadata": {},
   "source": [
    "The next time you want to run this, data can be loaded using np.Load faster as we saved the data using np.save above when the function was called for the first time"
   ]
  },
  {
   "cell_type": "code",
   "execution_count": 68,
   "metadata": {},
   "outputs": [],
   "source": [
    "#train_data = np.load('train_data.npy') \n",
    "#test_data = np.load('test_data.npy')"
   ]
  },
  {
   "cell_type": "markdown",
   "metadata": {},
   "source": [
    "Setting up training inputs (X) and labels (Y)"
   ]
  },
  {
   "cell_type": "code",
   "execution_count": 13,
   "metadata": {},
   "outputs": [],
   "source": [
    "X = np.array([i[0] for i in train_data])\n",
    "Y = np.array([i[1] for i in train_data]) \n",
    "score = [i[2] for i in train_data]"
   ]
  },
  {
   "cell_type": "code",
   "execution_count": 47,
   "metadata": {},
   "outputs": [],
   "source": [
    "Xtest = np.array([i[0] for i in test_data])\n",
    "img_id = [i[1] for i in test_data]"
   ]
  },
  {
   "cell_type": "markdown",
   "metadata": {},
   "source": [
    "Making sure if shape of X is 4 dimensional because that is what is needed for training in keras"
   ]
  },
  {
   "cell_type": "code",
   "execution_count": 14,
   "metadata": {},
   "outputs": [
    {
     "name": "stdout",
     "output_type": "stream",
     "text": [
      "(15244,)\n",
      "(15244, 256, 256, 3)\n"
     ]
    }
   ],
   "source": [
    "print(Y.shape)\n",
    "print(X.shape)"
   ]
  },
  {
   "cell_type": "markdown",
   "metadata": {},
   "source": [
    "We observe out of 15244 training images only 942 images have oil palm that makes us realise that it is a very unbalanced dataset"
   ]
  },
  {
   "cell_type": "code",
   "execution_count": 15,
   "metadata": {},
   "outputs": [
    {
     "data": {
      "text/plain": [
       "942"
      ]
     },
     "execution_count": 15,
     "metadata": {},
     "output_type": "execute_result"
    }
   ],
   "source": [
    "np.count_nonzero(Y == 1)"
   ]
  },
  {
   "cell_type": "markdown",
   "metadata": {},
   "source": [
    "In an attempt to make it balanced, I am trying to downsample the images having label 0 "
   ]
  },
  {
   "cell_type": "code",
   "execution_count": 16,
   "metadata": {},
   "outputs": [],
   "source": [
    "a = [i for i , x in enumerate(Y) if x == 0] # a= 14302 that is no. of images without oil palm\n",
    "b = [i for i in a if score[i]==1] # b = 11955 that is images in a having score = 1\n",
    "c = [i for i in a if score[i]<1 and score[i]>=0.75] # c = 1624\n",
    "d = [i for i in a if score[i]<0.75 and score[i]>=0.5] # d = 640\n",
    "e = [i for i in a if score[i]<0.5 and score[i]>=0.25] # e = 83\n",
    "f = [i for i in a if score[i]<0.25 and score[i]>=0] # f = 0"
   ]
  },
  {
   "cell_type": "markdown",
   "metadata": {},
   "source": [
    "Randomly selecting few images from each of b,c,d and e "
   ]
  },
  {
   "cell_type": "code",
   "execution_count": 17,
   "metadata": {},
   "outputs": [],
   "source": [
    "import random\n",
    "b = random.sample(b, 1200)\n",
    "c = random.sample(c, 400)\n",
    "d = random.sample(d, 260)\n",
    "e = random.sample(e, 40)"
   ]
  },
  {
   "cell_type": "code",
   "execution_count": 18,
   "metadata": {},
   "outputs": [
    {
     "data": {
      "text/plain": [
       "942"
      ]
     },
     "execution_count": 18,
     "metadata": {},
     "output_type": "execute_result"
    }
   ],
   "source": [
    "np.count_nonzero(Y == 1)"
   ]
  },
  {
   "cell_type": "markdown",
   "metadata": {},
   "source": [
    "So taking all of 942 has oil palm images and the other randomly selected 1900 without oil palm gives us 2842 images for training "
   ]
  },
  {
   "cell_type": "code",
   "execution_count": 19,
   "metadata": {},
   "outputs": [
    {
     "data": {
      "text/plain": [
       "2842"
      ]
     },
     "execution_count": 19,
     "metadata": {},
     "output_type": "execute_result"
    }
   ],
   "source": [
    "indices = [i for i , x in enumerate(Y) if x == 1]\n",
    "indices.extend(b + c + d + e)\n",
    "len(indices)"
   ]
  },
  {
   "cell_type": "markdown",
   "metadata": {},
   "source": [
    "Need to now find the selected images from X and create another variable X_n to store"
   ]
  },
  {
   "cell_type": "code",
   "execution_count": 20,
   "metadata": {},
   "outputs": [
    {
     "data": {
      "text/plain": [
       "942"
      ]
     },
     "execution_count": 20,
     "metadata": {},
     "output_type": "execute_result"
    }
   ],
   "source": [
    "X_n = np.array([x for i, x in enumerate(X) if i in indices])\n",
    "Y_n = np.array([y for i, y in enumerate(Y) if i in indices])\n",
    "score_n = [c for i, c in enumerate(score) if i in indices]\n",
    "np.count_nonzero(Y_n==1)"
   ]
  },
  {
   "cell_type": "code",
   "execution_count": 21,
   "metadata": {},
   "outputs": [
    {
     "name": "stdout",
     "output_type": "stream",
     "text": [
      "(2842, 256, 256, 3)\n",
      "(2842,)\n"
     ]
    }
   ],
   "source": [
    "print(X_n.shape)\n",
    "print(Y_n.shape)"
   ]
  },
  {
   "cell_type": "markdown",
   "metadata": {},
   "source": [
    "Trying to visualise the data "
   ]
  },
  {
   "cell_type": "code",
   "execution_count": 135,
   "metadata": {},
   "outputs": [
    {
     "data": {
      "text/plain": [
       "0"
      ]
     },
     "execution_count": 135,
     "metadata": {},
     "output_type": "execute_result"
    }
   ],
   "source": [
    "Y_n[47]"
   ]
  },
  {
   "cell_type": "code",
   "execution_count": 23,
   "metadata": {},
   "outputs": [
    {
     "data": {
      "text/plain": [
       "<matplotlib.image.AxesImage at 0x22bc87549b0>"
      ]
     },
     "execution_count": 23,
     "metadata": {},
     "output_type": "execute_result"
    },
    {
     "data": {
      "image/png": "[encoded data removed]",
      "text/plain": [
       "<Figure size 432x288 with 1 Axes>"
      ]
     },
     "metadata": {
      "needs_background": "light"
     },
     "output_type": "display_data"
    }
   ],
   "source": [
    "plt.imshow(cv2.cvtColor(X_n[47].reshape(256,256,3), cv2.COLOR_BGR2RGB))"
   ]
  },
  {
   "cell_type": "code",
   "execution_count": 24,
   "metadata": {},
   "outputs": [
    {
     "data": {
      "text/plain": [
       "[4,\n",
       " 15,\n",
       " 17,\n",
       " 21,\n",
       " 22,\n",
       " 25,\n",
       " 29,\n",
       " 37,\n",
       " 41,\n",
       " 46,\n",
       " 49,\n",
       " 53,\n",
       " 57,\n",
       " 58,\n",
       " 60,\n",
       " 61,\n",
       " 62,\n",
       " 63,\n",
       " 65,\n",
       " 67,\n",
       " 72,\n",
       " 75,\n",
       " 78,\n",
       " 82,\n",
       " 85,\n",
       " 90,\n",
       " 92,\n",
       " 93,\n",
       " 94,\n",
       " 97,\n",
       " 100,\n",
       " 101,\n",
       " 109,\n",
       " 110,\n",
       " 112,\n",
       " 113,\n",
       " 116,\n",
       " 117,\n",
       " 128,\n",
       " 130,\n",
       " 131,\n",
       " 133,\n",
       " 136,\n",
       " 137,\n",
       " 145,\n",
       " 147,\n",
       " 150,\n",
       " 156,\n",
       " 159,\n",
       " 160,\n",
       " 166,\n",
       " 167,\n",
       " 172,\n",
       " 176,\n",
       " 181,\n",
       " 182,\n",
       " 188,\n",
       " 190,\n",
       " 197,\n",
       " 199,\n",
       " 207,\n",
       " 208,\n",
       " 210,\n",
       " 212,\n",
       " 214,\n",
       " 215,\n",
       " 217,\n",
       " 218,\n",
       " 219,\n",
       " 224,\n",
       " 226,\n",
       " 227,\n",
       " 237,\n",
       " 238,\n",
       " 246,\n",
       " 248,\n",
       " 251,\n",
       " 255,\n",
       " 261,\n",
       " 262,\n",
       " 263,\n",
       " 266,\n",
       " 268,\n",
       " 274,\n",
       " 275,\n",
       " 277,\n",
       " 286,\n",
       " 288,\n",
       " 292,\n",
       " 303,\n",
       " 306,\n",
       " 307,\n",
       " 312,\n",
       " 313,\n",
       " 314,\n",
       " 318,\n",
       " 320,\n",
       " 321,\n",
       " 323,\n",
       " 325,\n",
       " 328,\n",
       " 332,\n",
       " 333,\n",
       " 336,\n",
       " 338,\n",
       " 343,\n",
       " 347,\n",
       " 348,\n",
       " 349,\n",
       " 351,\n",
       " 357,\n",
       " 358,\n",
       " 361,\n",
       " 366,\n",
       " 368,\n",
       " 373,\n",
       " 378,\n",
       " 385,\n",
       " 388,\n",
       " 390,\n",
       " 391,\n",
       " 400,\n",
       " 403,\n",
       " 407,\n",
       " 411,\n",
       " 414,\n",
       " 417,\n",
       " 420,\n",
       " 421,\n",
       " 422,\n",
       " 424,\n",
       " 425,\n",
       " 427,\n",
       " 433,\n",
       " 435,\n",
       " 436,\n",
       " 440,\n",
       " 441,\n",
       " 442,\n",
       " 453,\n",
       " 457,\n",
       " 458,\n",
       " 463,\n",
       " 464,\n",
       " 467,\n",
       " 469,\n",
       " 470,\n",
       " 471,\n",
       " 476,\n",
       " 480,\n",
       " 483,\n",
       " 484,\n",
       " 490,\n",
       " 497,\n",
       " 501,\n",
       " 502,\n",
       " 507,\n",
       " 509,\n",
       " 511,\n",
       " 515,\n",
       " 520,\n",
       " 522,\n",
       " 524,\n",
       " 528,\n",
       " 530,\n",
       " 532,\n",
       " 533,\n",
       " 539,\n",
       " 543,\n",
       " 544,\n",
       " 548,\n",
       " 561,\n",
       " 565,\n",
       " 567,\n",
       " 575,\n",
       " 580,\n",
       " 586,\n",
       " 587,\n",
       " 588,\n",
       " 589,\n",
       " 590,\n",
       " 596,\n",
       " 599,\n",
       " 602,\n",
       " 605,\n",
       " 608,\n",
       " 609,\n",
       " 610,\n",
       " 611,\n",
       " 616,\n",
       " 619,\n",
       " 622,\n",
       " 624,\n",
       " 631,\n",
       " 633,\n",
       " 638,\n",
       " 639,\n",
       " 641,\n",
       " 643,\n",
       " 645,\n",
       " 646,\n",
       " 648,\n",
       " 650,\n",
       " 653,\n",
       " 655,\n",
       " 665,\n",
       " 669,\n",
       " 671,\n",
       " 681,\n",
       " 684,\n",
       " 685,\n",
       " 687,\n",
       " 690,\n",
       " 691,\n",
       " 692,\n",
       " 693,\n",
       " 696,\n",
       " 700,\n",
       " 701,\n",
       " 707,\n",
       " 716,\n",
       " 718,\n",
       " 726,\n",
       " 730,\n",
       " 732,\n",
       " 733,\n",
       " 736,\n",
       " 740,\n",
       " 741,\n",
       " 744,\n",
       " 745,\n",
       " 748,\n",
       " 749,\n",
       " 753,\n",
       " 754,\n",
       " 756,\n",
       " 759,\n",
       " 760,\n",
       " 761,\n",
       " 762,\n",
       " 763,\n",
       " 765,\n",
       " 766,\n",
       " 772,\n",
       " 778,\n",
       " 779,\n",
       " 782,\n",
       " 786,\n",
       " 787,\n",
       " 792,\n",
       " 793,\n",
       " 799,\n",
       " 801,\n",
       " 804,\n",
       " 806,\n",
       " 808,\n",
       " 812,\n",
       " 813,\n",
       " 814,\n",
       " 817,\n",
       " 820,\n",
       " 825,\n",
       " 827,\n",
       " 829,\n",
       " 831,\n",
       " 835,\n",
       " 842,\n",
       " 847,\n",
       " 858,\n",
       " 862,\n",
       " 865,\n",
       " 866,\n",
       " 867,\n",
       " 869,\n",
       " 871,\n",
       " 872,\n",
       " 874,\n",
       " 879,\n",
       " 881,\n",
       " 886,\n",
       " 887,\n",
       " 888,\n",
       " 890,\n",
       " 897,\n",
       " 898,\n",
       " 899,\n",
       " 901,\n",
       " 904,\n",
       " 906,\n",
       " 909,\n",
       " 911,\n",
       " 914,\n",
       " 915,\n",
       " 920,\n",
       " 924,\n",
       " 931,\n",
       " 932,\n",
       " 936,\n",
       " 937,\n",
       " 944,\n",
       " 948,\n",
       " 951,\n",
       " 955,\n",
       " 958,\n",
       " 962,\n",
       " 963,\n",
       " 971,\n",
       " 972,\n",
       " 973,\n",
       " 977,\n",
       " 980,\n",
       " 982,\n",
       " 983,\n",
       " 984,\n",
       " 985,\n",
       " 987,\n",
       " 992,\n",
       " 995,\n",
       " 997,\n",
       " 998,\n",
       " 1000,\n",
       " 1002,\n",
       " 1004,\n",
       " 1005,\n",
       " 1007,\n",
       " 1011,\n",
       " 1012,\n",
       " 1016,\n",
       " 1022,\n",
       " 1025,\n",
       " 1026,\n",
       " 1029,\n",
       " 1037,\n",
       " 1038,\n",
       " 1040,\n",
       " 1045,\n",
       " 1046,\n",
       " 1047,\n",
       " 1050,\n",
       " 1051,\n",
       " 1052,\n",
       " 1061,\n",
       " 1063,\n",
       " 1064,\n",
       " 1065,\n",
       " 1069,\n",
       " 1071,\n",
       " 1076,\n",
       " 1081,\n",
       " 1085,\n",
       " 1087,\n",
       " 1089,\n",
       " 1090,\n",
       " 1097,\n",
       " 1101,\n",
       " 1103,\n",
       " 1106,\n",
       " 1109,\n",
       " 1110,\n",
       " 1113,\n",
       " 1115,\n",
       " 1117,\n",
       " 1129,\n",
       " 1140,\n",
       " 1144,\n",
       " 1148,\n",
       " 1149,\n",
       " 1150,\n",
       " 1151,\n",
       " 1154,\n",
       " 1155,\n",
       " 1158,\n",
       " 1159,\n",
       " 1160,\n",
       " 1161,\n",
       " 1164,\n",
       " 1167,\n",
       " 1170,\n",
       " 1175,\n",
       " 1176,\n",
       " 1178,\n",
       " 1179,\n",
       " 1183,\n",
       " 1193,\n",
       " 1195,\n",
       " 1196,\n",
       " 1200,\n",
       " 1206,\n",
       " 1211,\n",
       " 1219,\n",
       " 1226,\n",
       " 1227,\n",
       " 1231,\n",
       " 1234,\n",
       " 1237,\n",
       " 1238,\n",
       " 1241,\n",
       " 1246,\n",
       " 1247,\n",
       " 1251,\n",
       " 1252,\n",
       " 1253,\n",
       " 1254,\n",
       " 1255,\n",
       " 1261,\n",
       " 1263,\n",
       " 1266,\n",
       " 1268,\n",
       " 1272,\n",
       " 1275,\n",
       " 1276,\n",
       " 1277,\n",
       " 1278,\n",
       " 1280,\n",
       " 1281,\n",
       " 1285,\n",
       " 1286,\n",
       " 1290,\n",
       " 1292,\n",
       " 1293,\n",
       " 1294,\n",
       " 1295,\n",
       " 1298,\n",
       " 1302,\n",
       " 1304,\n",
       " 1305,\n",
       " 1307,\n",
       " 1311,\n",
       " 1312,\n",
       " 1315,\n",
       " 1317,\n",
       " 1318,\n",
       " 1320,\n",
       " 1321,\n",
       " 1322,\n",
       " 1323,\n",
       " 1324,\n",
       " 1325,\n",
       " 1327,\n",
       " 1329,\n",
       " 1332,\n",
       " 1333,\n",
       " 1334,\n",
       " 1335,\n",
       " 1339,\n",
       " 1340,\n",
       " 1342,\n",
       " 1343,\n",
       " 1344,\n",
       " 1350,\n",
       " 1351,\n",
       " 1354,\n",
       " 1355,\n",
       " 1356,\n",
       " 1361,\n",
       " 1362,\n",
       " 1368,\n",
       " 1369,\n",
       " 1373,\n",
       " 1375,\n",
       " 1379,\n",
       " 1381,\n",
       " 1382,\n",
       " 1386,\n",
       " 1388,\n",
       " 1393,\n",
       " 1397,\n",
       " 1398,\n",
       " 1402,\n",
       " 1404,\n",
       " 1405,\n",
       " 1406,\n",
       " 1407,\n",
       " 1410,\n",
       " 1411,\n",
       " 1417,\n",
       " 1420,\n",
       " 1421,\n",
       " 1423,\n",
       " 1425,\n",
       " 1426,\n",
       " 1427,\n",
       " 1430,\n",
       " 1431,\n",
       " 1434,\n",
       " 1443,\n",
       " 1450,\n",
       " 1455,\n",
       " 1456,\n",
       " 1458,\n",
       " 1459,\n",
       " 1464,\n",
       " 1468,\n",
       " 1473,\n",
       " 1476,\n",
       " 1477,\n",
       " 1480,\n",
       " 1481,\n",
       " 1485,\n",
       " 1486,\n",
       " 1491,\n",
       " 1494,\n",
       " 1497,\n",
       " 1498,\n",
       " 1499,\n",
       " 1503,\n",
       " 1506,\n",
       " 1513,\n",
       " 1514,\n",
       " 1516,\n",
       " 1517,\n",
       " 1530,\n",
       " 1531,\n",
       " 1532,\n",
       " 1533,\n",
       " 1534,\n",
       " 1535,\n",
       " 1540,\n",
       " 1541,\n",
       " 1542,\n",
       " 1546,\n",
       " 1548,\n",
       " 1549,\n",
       " 1550,\n",
       " 1551,\n",
       " 1552,\n",
       " 1558,\n",
       " 1560,\n",
       " 1561,\n",
       " 1574,\n",
       " 1575,\n",
       " 1578,\n",
       " 1579,\n",
       " 1586,\n",
       " 1587,\n",
       " 1589,\n",
       " 1594,\n",
       " 1595,\n",
       " 1596,\n",
       " 1598,\n",
       " 1600,\n",
       " 1601,\n",
       " 1603,\n",
       " 1605,\n",
       " 1609,\n",
       " 1610,\n",
       " 1616,\n",
       " 1618,\n",
       " 1624,\n",
       " 1625,\n",
       " 1628,\n",
       " 1631,\n",
       " 1632,\n",
       " 1633,\n",
       " 1638,\n",
       " 1644,\n",
       " 1646,\n",
       " 1649,\n",
       " 1651,\n",
       " 1653,\n",
       " 1655,\n",
       " 1659,\n",
       " 1667,\n",
       " 1674,\n",
       " 1676,\n",
       " 1678,\n",
       " 1680,\n",
       " 1682,\n",
       " 1683,\n",
       " 1684,\n",
       " 1685,\n",
       " 1689,\n",
       " 1691,\n",
       " 1698,\n",
       " 1706,\n",
       " 1707,\n",
       " 1710,\n",
       " 1711,\n",
       " 1714,\n",
       " 1716,\n",
       " 1717,\n",
       " 1721,\n",
       " 1723,\n",
       " 1726,\n",
       " 1734,\n",
       " 1753,\n",
       " 1754,\n",
       " 1755,\n",
       " 1757,\n",
       " 1759,\n",
       " 1761,\n",
       " 1762,\n",
       " 1766,\n",
       " 1768,\n",
       " 1770,\n",
       " 1771,\n",
       " 1775,\n",
       " 1779,\n",
       " 1782,\n",
       " 1784,\n",
       " 1785,\n",
       " 1788,\n",
       " 1789,\n",
       " 1791,\n",
       " 1792,\n",
       " 1794,\n",
       " 1799,\n",
       " 1800,\n",
       " 1801,\n",
       " 1805,\n",
       " 1813,\n",
       " 1815,\n",
       " 1820,\n",
       " 1823,\n",
       " 1826,\n",
       " 1827,\n",
       " 1828,\n",
       " 1831,\n",
       " 1833,\n",
       " 1836,\n",
       " 1839,\n",
       " 1840,\n",
       " 1846,\n",
       " 1847,\n",
       " 1850,\n",
       " 1855,\n",
       " 1867,\n",
       " 1871,\n",
       " 1873,\n",
       " 1875,\n",
       " 1877,\n",
       " 1883,\n",
       " 1884,\n",
       " 1885,\n",
       " 1886,\n",
       " 1889,\n",
       " 1893,\n",
       " 1895,\n",
       " 1896,\n",
       " 1900,\n",
       " 1906,\n",
       " 1907,\n",
       " 1911,\n",
       " 1913,\n",
       " 1918,\n",
       " 1924,\n",
       " 1925,\n",
       " 1928,\n",
       " 1930,\n",
       " 1931,\n",
       " 1932,\n",
       " 1934,\n",
       " 1936,\n",
       " 1939,\n",
       " 1949,\n",
       " 1955,\n",
       " 1957,\n",
       " 1963,\n",
       " 1965,\n",
       " 1966,\n",
       " 1967,\n",
       " 1971,\n",
       " 1974,\n",
       " 1979,\n",
       " 1987,\n",
       " 1992,\n",
       " 1997,\n",
       " 2005,\n",
       " 2009,\n",
       " 2010,\n",
       " 2011,\n",
       " 2014,\n",
       " 2018,\n",
       " 2020,\n",
       " 2022,\n",
       " 2024,\n",
       " 2027,\n",
       " 2034,\n",
       " 2047,\n",
       " 2050,\n",
       " 2053,\n",
       " 2054,\n",
       " 2055,\n",
       " 2060,\n",
       " 2062,\n",
       " 2070,\n",
       " 2071,\n",
       " 2074,\n",
       " 2076,\n",
       " 2083,\n",
       " 2084,\n",
       " 2087,\n",
       " 2091,\n",
       " 2093,\n",
       " 2095,\n",
       " 2100,\n",
       " 2105,\n",
       " 2107,\n",
       " 2108,\n",
       " 2110,\n",
       " 2112,\n",
       " 2113,\n",
       " 2114,\n",
       " 2116,\n",
       " 2122,\n",
       " 2123,\n",
       " 2124,\n",
       " 2125,\n",
       " 2131,\n",
       " 2136,\n",
       " 2145,\n",
       " 2148,\n",
       " 2152,\n",
       " 2159,\n",
       " 2164,\n",
       " 2169,\n",
       " 2170,\n",
       " 2171,\n",
       " 2172,\n",
       " 2173,\n",
       " 2174,\n",
       " 2180,\n",
       " 2185,\n",
       " 2188,\n",
       " 2189,\n",
       " 2191,\n",
       " 2195,\n",
       " 2196,\n",
       " 2200,\n",
       " 2202,\n",
       " 2203,\n",
       " 2208,\n",
       " 2211,\n",
       " 2220,\n",
       " 2224,\n",
       " 2227,\n",
       " 2235,\n",
       " 2238,\n",
       " 2239,\n",
       " 2241,\n",
       " 2244,\n",
       " 2247,\n",
       " 2249,\n",
       " 2252,\n",
       " 2254,\n",
       " 2259,\n",
       " 2261,\n",
       " 2263,\n",
       " 2265,\n",
       " 2268,\n",
       " 2276,\n",
       " 2281,\n",
       " 2283,\n",
       " 2285,\n",
       " 2286,\n",
       " 2297,\n",
       " 2301,\n",
       " 2305,\n",
       " 2307,\n",
       " 2309,\n",
       " 2310,\n",
       " 2315,\n",
       " 2323,\n",
       " 2324,\n",
       " 2326,\n",
       " 2327,\n",
       " 2328,\n",
       " 2331,\n",
       " 2335,\n",
       " 2339,\n",
       " 2341,\n",
       " 2345,\n",
       " 2347,\n",
       " 2349,\n",
       " 2350,\n",
       " 2354,\n",
       " 2355,\n",
       " 2356,\n",
       " 2357,\n",
       " 2359,\n",
       " 2361,\n",
       " 2364,\n",
       " 2365,\n",
       " 2366,\n",
       " 2367,\n",
       " 2369,\n",
       " 2371,\n",
       " 2372,\n",
       " 2376,\n",
       " 2378,\n",
       " 2383,\n",
       " 2389,\n",
       " 2397,\n",
       " 2400,\n",
       " 2404,\n",
       " 2405,\n",
       " 2407,\n",
       " 2411,\n",
       " 2412,\n",
       " 2413,\n",
       " 2414,\n",
       " 2417,\n",
       " 2419,\n",
       " 2421,\n",
       " 2423,\n",
       " 2428,\n",
       " 2429,\n",
       " 2430,\n",
       " 2432,\n",
       " 2443,\n",
       " 2447,\n",
       " 2451,\n",
       " 2454,\n",
       " 2456,\n",
       " 2459,\n",
       " 2466,\n",
       " 2468,\n",
       " 2471,\n",
       " 2472,\n",
       " 2479,\n",
       " 2482,\n",
       " 2485,\n",
       " 2487,\n",
       " 2491,\n",
       " 2492,\n",
       " 2495,\n",
       " 2496,\n",
       " 2501,\n",
       " 2502,\n",
       " 2503,\n",
       " 2505,\n",
       " 2508,\n",
       " 2511,\n",
       " 2516,\n",
       " 2522,\n",
       " 2524,\n",
       " 2527,\n",
       " 2528,\n",
       " 2532,\n",
       " 2535,\n",
       " 2536,\n",
       " 2540,\n",
       " 2543,\n",
       " 2545,\n",
       " 2546,\n",
       " 2549,\n",
       " 2553,\n",
       " 2554,\n",
       " 2555,\n",
       " 2556,\n",
       " 2558,\n",
       " 2563,\n",
       " 2564,\n",
       " 2566,\n",
       " 2567,\n",
       " 2571,\n",
       " 2572,\n",
       " 2576,\n",
       " 2577,\n",
       " 2583,\n",
       " 2585,\n",
       " 2587,\n",
       " 2588,\n",
       " 2593,\n",
       " 2606,\n",
       " 2607,\n",
       " 2617,\n",
       " 2623,\n",
       " 2624,\n",
       " 2628,\n",
       " 2629,\n",
       " 2632,\n",
       " 2633,\n",
       " 2637,\n",
       " 2639,\n",
       " 2640,\n",
       " 2645,\n",
       " 2649,\n",
       " 2655,\n",
       " 2656,\n",
       " 2658,\n",
       " 2660,\n",
       " 2663,\n",
       " 2666,\n",
       " 2668,\n",
       " 2670,\n",
       " 2675,\n",
       " 2677,\n",
       " 2678,\n",
       " 2682,\n",
       " 2684,\n",
       " 2692,\n",
       " 2693,\n",
       " 2694,\n",
       " 2696,\n",
       " 2698,\n",
       " 2704,\n",
       " 2705,\n",
       " 2706,\n",
       " 2713,\n",
       " 2716,\n",
       " 2718,\n",
       " 2721,\n",
       " 2722,\n",
       " 2725,\n",
       " 2726,\n",
       " 2728,\n",
       " 2731,\n",
       " 2735,\n",
       " 2740,\n",
       " 2743,\n",
       " 2747,\n",
       " 2750,\n",
       " 2751,\n",
       " 2753,\n",
       " 2755,\n",
       " 2758,\n",
       " 2759,\n",
       " 2760,\n",
       " 2762,\n",
       " 2763,\n",
       " 2765,\n",
       " 2771,\n",
       " 2779,\n",
       " 2785,\n",
       " 2787,\n",
       " 2793,\n",
       " 2800,\n",
       " 2802,\n",
       " 2805,\n",
       " 2807,\n",
       " 2808,\n",
       " 2809,\n",
       " 2810,\n",
       " 2811,\n",
       " 2813,\n",
       " 2819,\n",
       " 2821,\n",
       " 2822,\n",
       " 2832,\n",
       " 2835,\n",
       " 2838]"
      ]
     },
     "execution_count": 24,
     "metadata": {},
     "output_type": "execute_result"
    }
   ],
   "source": [
    "index = [i for i , x in enumerate(Y_n) if x == 1] #collecting all indices having oil palm images \n",
    "index"
   ]
  },
  {
   "cell_type": "code",
   "execution_count": 25,
   "metadata": {},
   "outputs": [
    {
     "name": "stderr",
     "output_type": "stream",
     "text": [
      "Using TensorFlow backend.\n"
     ]
    }
   ],
   "source": [
    "from sklearn.model_selection import train_test_split"
   ]
  },
  {
   "cell_type": "code",
   "execution_count": 26,
   "metadata": {},
   "outputs": [],
   "source": [
    "X_train, X_test, y_train, y_test = train_test_split(X_n, Y_n, test_size=0.2, random_state=13) #splitting in training and testing\n",
    "X_train, X_val, y_train, y_val = train_test_split(X_train, y_train, test_size=0.2, random_state=13)#further splitting training to training and validating"
   ]
  },
  {
   "cell_type": "code",
   "execution_count": 27,
   "metadata": {},
   "outputs": [
    {
     "name": "stdout",
     "output_type": "stream",
     "text": [
      "(1818, 256, 256, 3)\n",
      "(1818,)\n",
      "(455, 256, 256, 3)\n",
      "(455,)\n",
      "(569, 256, 256, 3)\n",
      "(569,)\n",
      "942\n"
     ]
    }
   ],
   "source": [
    "print(X_train.shape)\n",
    "print(y_train.shape)\n",
    "print(X_val.shape)\n",
    "print(y_val.shape)\n",
    "print(X_test.shape)\n",
    "print(y_test.shape)\n",
    "print(np.count_nonzero(Y_n==1))"
   ]
  },
  {
   "cell_type": "code",
   "execution_count": 28,
   "metadata": {},
   "outputs": [],
   "source": [
    "from keras.models import Sequential\n",
    "from keras.layers import Dense, Conv2D, Dropout, Flatten, MaxPooling2D\n"
   ]
  },
  {
   "cell_type": "markdown",
   "metadata": {},
   "source": [
    "Using a pretrained VGG16 model available in keras, idea is initial layers of any image classification cnn model learns almost the same features so using a pretrained model can be of advantage. "
   ]
  },
  {
   "cell_type": "code",
   "execution_count": 29,
   "metadata": {},
   "outputs": [],
   "source": [
    "from keras.applications import VGG16\n",
    "#Load the VGG model\n",
    "vgg_conv = VGG16(weights='imagenet', include_top=False, input_shape=(256, 256, 3))"
   ]
  },
  {
   "cell_type": "code",
   "execution_count": 30,
   "metadata": {},
   "outputs": [
    {
     "name": "stdout",
     "output_type": "stream",
     "text": [
      "<keras.engine.input_layer.InputLayer object at 0x0000022BC82D6278> False\n",
      "<keras.layers.convolutional.Conv2D object at 0x0000022BC82D6A90> False\n",
      "<keras.layers.convolutional.Conv2D object at 0x0000022BC82D68D0> False\n",
      "<keras.layers.pooling.MaxPooling2D object at 0x0000022BC82EBCF8> False\n",
      "<keras.layers.convolutional.Conv2D object at 0x0000022BC82EB278> False\n",
      "<keras.layers.convolutional.Conv2D object at 0x0000022B223E8BA8> False\n",
      "<keras.layers.pooling.MaxPooling2D object at 0x0000022B22400898> False\n",
      "<keras.layers.convolutional.Conv2D object at 0x0000022B224008D0> False\n",
      "<keras.layers.convolutional.Conv2D object at 0x0000022B2241ABE0> False\n",
      "<keras.layers.convolutional.Conv2D object at 0x0000022B22436710> False\n",
      "<keras.layers.pooling.MaxPooling2D object at 0x0000022B22471898> False\n",
      "<keras.layers.convolutional.Conv2D object at 0x0000022B224718D0> False\n",
      "<keras.layers.convolutional.Conv2D object at 0x0000022B2248FBE0> False\n",
      "<keras.layers.convolutional.Conv2D object at 0x0000022B224AA710> False\n",
      "<keras.layers.pooling.MaxPooling2D object at 0x0000022B224E5898> False\n",
      "<keras.layers.convolutional.Conv2D object at 0x0000022B224E58D0> True\n",
      "<keras.layers.convolutional.Conv2D object at 0x0000022B22503BE0> True\n",
      "<keras.layers.convolutional.Conv2D object at 0x0000022B2251E710> True\n",
      "<keras.layers.pooling.MaxPooling2D object at 0x0000022B2255A898> True\n"
     ]
    }
   ],
   "source": [
    "# Freeze the layers except the last 4 layers\n",
    "for layer in vgg_conv.layers[:-4]:\n",
    "    layer.trainable = False\n",
    " \n",
    "# Check the trainable status of the individual layers\n",
    "for layer in vgg_conv.layers:\n",
    "    print(layer, layer.trainable)"
   ]
  },
  {
   "cell_type": "code",
   "execution_count": 34,
   "metadata": {},
   "outputs": [
    {
     "name": "stdout",
     "output_type": "stream",
     "text": [
      "_________________________________________________________________\n",
      "Layer (type)                 Output Shape              Param #   \n",
      "=================================================================\n",
      "vgg16 (Model)                (None, 8, 8, 512)         14714688  \n",
      "_________________________________________________________________\n",
      "flatten_3 (Flatten)          (None, 32768)             0         \n",
      "_________________________________________________________________\n",
      "dense_5 (Dense)              (None, 256)               8388864   \n",
      "_________________________________________________________________\n",
      "dropout_3 (Dropout)          (None, 256)               0         \n",
      "_________________________________________________________________\n",
      "dense_6 (Dense)              (None, 1)                 257       \n",
      "=================================================================\n",
      "Total params: 23,103,809\n",
      "Trainable params: 15,468,545\n",
      "Non-trainable params: 7,635,264\n",
      "_________________________________________________________________\n"
     ]
    }
   ],
   "source": [
    "from keras import models\n",
    "from keras import layers\n",
    "from keras import optimizers\n",
    " \n",
    "# Create the model\n",
    "mycnn1 = models.Sequential()\n",
    " \n",
    "# Add the vgg convolutional base model\n",
    "mycnn1.add(vgg_conv)\n",
    " \n",
    "# Add new layers\n",
    "mycnn1.add(layers.Flatten(input_shape=mycnn1.output_shape[1:]))\n",
    "mycnn1.add(layers.Dense(256, activation='relu'))\n",
    "mycnn1.add(layers.Dropout(0.5))\n",
    "mycnn1.add(layers.Dense(1, activation='sigmoid'))\n",
    " \n",
    "# Show a summary of the model. Check the number of trainable parameters\n",
    "mycnn1.summary()"
   ]
  },
  {
   "cell_type": "code",
   "execution_count": 37,
   "metadata": {},
   "outputs": [],
   "source": [
    "mycnn1.compile(optimizer=optimizers.SGD(lr=1e-4, momentum=0.9), # using stochastic gradient decent optimizer\n",
    "              loss='binary_crossentropy', #since it is a binary classification \n",
    "              metrics=['accuracy'])"
   ]
  },
  {
   "cell_type": "code",
   "execution_count": 39,
   "metadata": {},
   "outputs": [
    {
     "name": "stdout",
     "output_type": "stream",
     "text": [
      "Epoch 1/10\n",
      "181/181 [==============================] - ETA: 41:54 - loss: 1.4818 - acc: 0.50 - ETA: 23:31 - loss: 1.9428 - acc: 0.55 - ETA: 17:13 - loss: 2.1587 - acc: 0.50 - ETA: 14:03 - loss: 2.3489 - acc: 0.52 - ETA: 12:08 - loss: 2.9122 - acc: 0.46 - ETA: 10:51 - loss: 2.7771 - acc: 0.48 - ETA: 9:54 - loss: 2.5069 - acc: 0.5286 - ETA: 9:11 - loss: 2.6315 - acc: 0.525 - ETA: 8:37 - loss: 2.3425 - acc: 0.577 - ETA: 8:09 - loss: 2.2697 - acc: 0.610 - ETA: 7:47 - loss: 2.0641 - acc: 0.645 - ETA: 7:27 - loss: 2.0898 - acc: 0.658 - ETA: 7:12 - loss: 1.9793 - acc: 0.669 - ETA: 6:57 - loss: 2.1210 - acc: 0.671 - ETA: 6:45 - loss: 2.1283 - acc: 0.673 - ETA: 6:33 - loss: 2.0217 - acc: 0.687 - ETA: 6:23 - loss: 1.9051 - acc: 0.705 - ETA: 6:15 - loss: 1.8661 - acc: 0.716 - ETA: 6:06 - loss: 1.7989 - acc: 0.726 - ETA: 5:58 - loss: 1.7411 - acc: 0.735 - ETA: 5:51 - loss: 1.6620 - acc: 0.742 - ETA: 5:45 - loss: 1.6822 - acc: 0.745 - ETA: 5:38 - loss: 1.6939 - acc: 0.743 - ETA: 5:33 - loss: 1.6529 - acc: 0.750 - ETA: 5:27 - loss: 1.5873 - acc: 0.760 - ETA: 5:22 - loss: 1.5269 - acc: 0.769 - ETA: 5:17 - loss: 1.4735 - acc: 0.777 - ETA: 5:13 - loss: 1.4253 - acc: 0.782 - ETA: 5:08 - loss: 1.4080 - acc: 0.782 - ETA: 5:04 - loss: 1.3661 - acc: 0.786 - ETA: 5:00 - loss: 1.3863 - acc: 0.783 - ETA: 4:56 - loss: 1.3431 - acc: 0.790 - ETA: 4:52 - loss: 1.3041 - acc: 0.797 - ETA: 4:48 - loss: 1.2689 - acc: 0.802 - ETA: 4:42 - loss: 1.2348 - acc: 0.808 - ETA: 4:36 - loss: 1.2053 - acc: 0.813 - ETA: 4:31 - loss: 1.1806 - acc: 0.813 - ETA: 4:26 - loss: 1.1505 - acc: 0.818 - ETA: 4:21 - loss: 1.1524 - acc: 0.820 - ETA: 4:16 - loss: 1.1243 - acc: 0.825 - ETA: 4:11 - loss: 1.1000 - acc: 0.826 - ETA: 4:07 - loss: 1.0754 - acc: 0.831 - ETA: 4:03 - loss: 1.0603 - acc: 0.830 - ETA: 3:59 - loss: 1.0363 - acc: 0.834 - ETA: 3:55 - loss: 1.0385 - acc: 0.835 - ETA: 3:51 - loss: 1.0161 - acc: 0.839 - ETA: 3:47 - loss: 0.9961 - acc: 0.842 - ETA: 3:44 - loss: 0.9797 - acc: 0.843 - ETA: 3:40 - loss: 0.9611 - acc: 0.846 - ETA: 3:37 - loss: 0.9437 - acc: 0.850 - ETA: 3:33 - loss: 0.9260 - acc: 0.852 - ETA: 3:30 - loss: 0.9229 - acc: 0.853 - ETA: 3:27 - loss: 0.9441 - acc: 0.850 - ETA: 3:24 - loss: 0.9409 - acc: 0.851 - ETA: 3:21 - loss: 0.9240 - acc: 0.854 - ETA: 3:18 - loss: 0.9076 - acc: 0.857 - ETA: 3:15 - loss: 0.8922 - acc: 0.859 - ETA: 3:12 - loss: 0.8831 - acc: 0.860 - ETA: 3:09 - loss: 0.8770 - acc: 0.859 - ETA: 3:07 - loss: 0.8631 - acc: 0.861 - ETA: 3:04 - loss: 0.8496 - acc: 0.863 - ETA: 3:01 - loss: 0.8514 - acc: 0.862 - ETA: 2:59 - loss: 0.8404 - acc: 0.863 - ETA: 2:56 - loss: 0.8287 - acc: 0.865 - ETA: 2:54 - loss: 0.8193 - acc: 0.866 - ETA: 2:52 - loss: 0.8089 - acc: 0.866 - ETA: 2:49 - loss: 0.8041 - acc: 0.865 - ETA: 2:47 - loss: 0.7988 - acc: 0.864 - ETA: 2:45 - loss: 0.7891 - acc: 0.866 - ETA: 2:42 - loss: 0.7865 - acc: 0.865 - ETA: 2:40 - loss: 0.7782 - acc: 0.866 - ETA: 2:38 - loss: 0.7685 - acc: 0.868 - ETA: 2:36 - loss: 0.7599 - acc: 0.869 - ETA: 2:34 - loss: 0.7594 - acc: 0.868 - ETA: 2:32 - loss: 0.7521 - acc: 0.869 - ETA: 2:30 - loss: 0.7575 - acc: 0.868 - ETA: 2:28 - loss: 0.7558 - acc: 0.868 - ETA: 2:26 - loss: 0.7466 - acc: 0.870 - ETA: 2:24 - loss: 0.7386 - acc: 0.872 - ETA: 2:22 - loss: 0.7351 - acc: 0.872 - ETA: 2:20 - loss: 0.7265 - acc: 0.874 - ETA: 2:18 - loss: 0.7177 - acc: 0.875 - ETA: 2:16 - loss: 0.7098 - acc: 0.877 - ETA: 2:14 - loss: 0.7086 - acc: 0.876 - ETA: 2:12 - loss: 0.7075 - acc: 0.875 - ETA: 2:10 - loss: 0.7014 - acc: 0.875 - ETA: 2:09 - loss: 0.6968 - acc: 0.875 - ETA: 2:07 - loss: 0.6926 - acc: 0.876 - ETA: 2:05 - loss: 0.6860 - acc: 0.877 - ETA: 2:03 - loss: 0.6816 - acc: 0.877 - ETA: 2:02 - loss: 0.6795 - acc: 0.878 - ETA: 2:00 - loss: 0.6722 - acc: 0.879 - ETA: 1:58 - loss: 0.6657 - acc: 0.880 - ETA: 1:57 - loss: 0.6626 - acc: 0.879 - ETA: 1:55 - loss: 0.6588 - acc: 0.880 - ETA: 1:53 - loss: 0.6533 - acc: 0.881 - ETA: 1:52 - loss: 0.6475 - acc: 0.882 - ETA: 1:50 - loss: 0.6430 - acc: 0.882 - ETA: 1:48 - loss: 0.6376 - acc: 0.883 - ETA: 1:47 - loss: 0.6320 - acc: 0.885 - ETA: 1:45 - loss: 0.6265 - acc: 0.886 - ETA: 1:44 - loss: 0.6207 - acc: 0.887 - ETA: 1:42 - loss: 0.6152 - acc: 0.888 - ETA: 1:40 - loss: 0.6120 - acc: 0.888 - ETA: 1:39 - loss: 0.6069 - acc: 0.889 - ETA: 1:37 - loss: 0.6015 - acc: 0.890 - ETA: 1:36 - loss: 0.5966 - acc: 0.891 - ETA: 1:34 - loss: 0.5912 - acc: 0.892 - ETA: 1:33 - loss: 0.5860 - acc: 0.893 - ETA: 1:31 - loss: 0.5821 - acc: 0.893 - ETA: 1:30 - loss: 0.5801 - acc: 0.893 - ETA: 1:28 - loss: 0.5750 - acc: 0.894 - ETA: 1:27 - loss: 0.5765 - acc: 0.894 - ETA: 1:25 - loss: 0.5720 - acc: 0.895 - ETA: 1:24 - loss: 0.5710 - acc: 0.895 - ETA: 1:23 - loss: 0.5718 - acc: 0.894 - ETA: 1:21 - loss: 0.5691 - acc: 0.894 - ETA: 1:20 - loss: 0.5644 - acc: 0.895 - ETA: 1:18 - loss: 0.5597 - acc: 0.896 - ETA: 1:17 - loss: 0.5563 - acc: 0.896 - ETA: 1:15 - loss: 0.5535 - acc: 0.895 - ETA: 1:14 - loss: 0.5491 - acc: 0.896 - ETA: 1:13 - loss: 0.5457 - acc: 0.897 - ETA: 1:11 - loss: 0.5417 - acc: 0.898 - ETA: 1:10 - loss: 0.5402 - acc: 0.897 - ETA: 1:09 - loss: 0.5361 - acc: 0.898 - ETA: 1:07 - loss: 0.5391 - acc: 0.896 - ETA: 1:06 - loss: 0.5354 - acc: 0.897 - ETA: 1:04 - loss: 0.5353 - acc: 0.897 - ETA: 1:03 - loss: 0.5327 - acc: 0.897 - ETA: 1:02 - loss: 0.5293 - acc: 0.897 - ETA: 1:00 - loss: 0.5271 - acc: 0.897 - ETA: 59s - loss: 0.5237 - acc: 0.898 - ETA: 58s - loss: 0.5199 - acc: 0.89 - ETA: 56s - loss: 0.5185 - acc: 0.89 - ETA: 55s - loss: 0.5202 - acc: 0.89 - ETA: 54s - loss: 0.5190 - acc: 0.89 - ETA: 52s - loss: 0.5153 - acc: 0.90 - ETA: 51s - loss: 0.5116 - acc: 0.90 - ETA: 50s - loss: 0.5080 - acc: 0.90 - ETA: 49s - loss: 0.5093 - acc: 0.90 - ETA: 47s - loss: 0.5060 - acc: 0.90 - ETA: 46s - loss: 0.5045 - acc: 0.90 - ETA: 45s - loss: 0.5041 - acc: 0.90 - ETA: 43s - loss: 0.5007 - acc: 0.90 - ETA: 42s - loss: 0.4974 - acc: 0.90 - ETA: 41s - loss: 0.4942 - acc: 0.90 - ETA: 40s - loss: 0.4915 - acc: 0.90 - ETA: 38s - loss: 0.4885 - acc: 0.90 - ETA: 37s - loss: 0.4857 - acc: 0.90 - ETA: 36s - loss: 0.4841 - acc: 0.90 - ETA: 35s - loss: 0.4810 - acc: 0.90 - ETA: 33s - loss: 0.4825 - acc: 0.90 - ETA: 32s - loss: 0.4805 - acc: 0.90 - ETA: 31s - loss: 0.4778 - acc: 0.90 - ETA: 30s - loss: 0.4751 - acc: 0.90 - ETA: 28s - loss: 0.4752 - acc: 0.90 - ETA: 27s - loss: 0.4743 - acc: 0.90 - ETA: 26s - loss: 0.4717 - acc: 0.90 - ETA: 25s - loss: 0.4708 - acc: 0.90 - ETA: 23s - loss: 0.4684 - acc: 0.90 - ETA: 22s - loss: 0.4668 - acc: 0.90 - ETA: 21s - loss: 0.4647 - acc: 0.90 - ETA: 20s - loss: 0.4623 - acc: 0.90 - ETA: 19s - loss: 0.4602 - acc: 0.90 - ETA: 17s - loss: 0.4578 - acc: 0.90 - ETA: 16s - loss: 0.4552 - acc: 0.90 - ETA: 15s - loss: 0.4536 - acc: 0.90 - ETA: 14s - loss: 0.4511 - acc: 0.90 - ETA: 13s - loss: 0.4500 - acc: 0.90 - ETA: 11s - loss: 0.4476 - acc: 0.90 - ETA: 10s - loss: 0.4454 - acc: 0.91 - ETA: 9s - loss: 0.4429 - acc: 0.9110 - ETA: 8s - loss: 0.4406 - acc: 0.911 - ETA: 7s - loss: 0.4381 - acc: 0.912 - ETA: 5s - loss: 0.4372 - acc: 0.911 - ETA: 4s - loss: 0.4370 - acc: 0.911 - ETA: 3s - loss: 0.4350 - acc: 0.911 - ETA: 2s - loss: 0.4337 - acc: 0.911 - ETA: 1s - loss: 0.4329 - acc: 0.911 - 257s 1s/step - loss: 0.4305 - acc: 0.9116 - val_loss: 0.1740 - val_acc: 0.9648\n",
      "Epoch 2/10\n"
     ]
    },
    {
     "name": "stdout",
     "output_type": "stream",
     "text": [
      "181/181 [==============================] - ETA: 2:55 - loss: 0.0204 - acc: 1.000 - ETA: 2:55 - loss: 0.3971 - acc: 0.950 - ETA: 2:54 - loss: 0.5328 - acc: 0.900 - ETA: 2:54 - loss: 0.4049 - acc: 0.925 - ETA: 2:53 - loss: 0.3967 - acc: 0.920 - ETA: 2:52 - loss: 0.3321 - acc: 0.933 - ETA: 2:51 - loss: 0.2855 - acc: 0.942 - ETA: 2:50 - loss: 0.2520 - acc: 0.950 - ETA: 2:49 - loss: 0.2247 - acc: 0.955 - ETA: 2:48 - loss: 0.2960 - acc: 0.950 - ETA: 2:47 - loss: 0.2706 - acc: 0.954 - ETA: 2:46 - loss: 0.2745 - acc: 0.941 - ETA: 2:45 - loss: 0.2653 - acc: 0.938 - ETA: 2:44 - loss: 0.2470 - acc: 0.942 - ETA: 2:43 - loss: 0.2306 - acc: 0.946 - ETA: 2:42 - loss: 0.2315 - acc: 0.943 - ETA: 2:41 - loss: 0.2192 - acc: 0.947 - ETA: 2:41 - loss: 0.2177 - acc: 0.944 - ETA: 2:40 - loss: 0.2116 - acc: 0.947 - ETA: 2:39 - loss: 0.2033 - acc: 0.950 - ETA: 2:38 - loss: 0.1949 - acc: 0.952 - ETA: 2:37 - loss: 0.2053 - acc: 0.950 - ETA: 2:36 - loss: 0.2007 - acc: 0.952 - ETA: 2:35 - loss: 0.1956 - acc: 0.954 - ETA: 2:34 - loss: 0.1888 - acc: 0.956 - ETA: 2:33 - loss: 0.1826 - acc: 0.957 - ETA: 2:32 - loss: 0.1861 - acc: 0.955 - ETA: 2:31 - loss: 0.1813 - acc: 0.957 - ETA: 2:30 - loss: 0.1801 - acc: 0.955 - ETA: 2:29 - loss: 0.1753 - acc: 0.956 - ETA: 2:28 - loss: 0.1771 - acc: 0.954 - ETA: 2:27 - loss: 0.1743 - acc: 0.956 - ETA: 2:26 - loss: 0.1698 - acc: 0.957 - ETA: 2:25 - loss: 0.1661 - acc: 0.958 - ETA: 2:24 - loss: 0.1671 - acc: 0.957 - ETA: 2:23 - loss: 0.1642 - acc: 0.958 - ETA: 2:22 - loss: 0.1674 - acc: 0.954 - ETA: 2:21 - loss: 0.1640 - acc: 0.955 - ETA: 2:20 - loss: 0.1622 - acc: 0.956 - ETA: 2:19 - loss: 0.1590 - acc: 0.957 - ETA: 2:18 - loss: 0.1581 - acc: 0.958 - ETA: 2:17 - loss: 0.1567 - acc: 0.959 - ETA: 2:16 - loss: 0.1542 - acc: 0.960 - ETA: 2:15 - loss: 0.1529 - acc: 0.959 - ETA: 2:14 - loss: 0.1500 - acc: 0.960 - ETA: 2:13 - loss: 0.1476 - acc: 0.960 - ETA: 2:12 - loss: 0.1465 - acc: 0.959 - ETA: 2:11 - loss: 0.1456 - acc: 0.958 - ETA: 2:10 - loss: 0.1538 - acc: 0.957 - ETA: 2:09 - loss: 0.1507 - acc: 0.958 - ETA: 2:08 - loss: 0.1591 - acc: 0.954 - ETA: 2:07 - loss: 0.1566 - acc: 0.955 - ETA: 2:06 - loss: 0.1537 - acc: 0.956 - ETA: 2:05 - loss: 0.1540 - acc: 0.955 - ETA: 2:04 - loss: 0.1518 - acc: 0.956 - ETA: 2:03 - loss: 0.1509 - acc: 0.957 - ETA: 2:02 - loss: 0.1491 - acc: 0.957 - ETA: 2:01 - loss: 0.1479 - acc: 0.958 - ETA: 2:00 - loss: 0.1504 - acc: 0.957 - ETA: 1:59 - loss: 0.1572 - acc: 0.956 - ETA: 1:58 - loss: 0.1551 - acc: 0.957 - ETA: 1:57 - loss: 0.1554 - acc: 0.956 - ETA: 1:56 - loss: 0.1565 - acc: 0.955 - ETA: 1:55 - loss: 0.1542 - acc: 0.956 - ETA: 1:54 - loss: 0.1522 - acc: 0.956 - ETA: 1:53 - loss: 0.1543 - acc: 0.956 - ETA: 1:52 - loss: 0.1554 - acc: 0.955 - ETA: 1:51 - loss: 0.1720 - acc: 0.952 - ETA: 1:50 - loss: 0.1698 - acc: 0.953 - ETA: 1:49 - loss: 0.1679 - acc: 0.954 - ETA: 1:48 - loss: 0.1664 - acc: 0.954 - ETA: 1:47 - loss: 0.1686 - acc: 0.954 - ETA: 1:46 - loss: 0.1672 - acc: 0.954 - ETA: 1:45 - loss: 0.1688 - acc: 0.954 - ETA: 1:44 - loss: 0.1676 - acc: 0.954 - ETA: 1:43 - loss: 0.1689 - acc: 0.952 - ETA: 1:42 - loss: 0.1707 - acc: 0.950 - ETA: 1:41 - loss: 0.1716 - acc: 0.950 - ETA: 1:40 - loss: 0.1708 - acc: 0.950 - ETA: 1:39 - loss: 0.1693 - acc: 0.951 - ETA: 1:38 - loss: 0.1712 - acc: 0.949 - ETA: 1:37 - loss: 0.1692 - acc: 0.950 - ETA: 1:36 - loss: 0.1695 - acc: 0.949 - ETA: 1:35 - loss: 0.1705 - acc: 0.948 - ETA: 1:34 - loss: 0.1686 - acc: 0.949 - ETA: 1:33 - loss: 0.1669 - acc: 0.950 - ETA: 1:32 - loss: 0.1651 - acc: 0.950 - ETA: 1:31 - loss: 0.1632 - acc: 0.951 - ETA: 1:30 - loss: 0.1635 - acc: 0.950 - ETA: 1:29 - loss: 0.1629 - acc: 0.950 - ETA: 1:28 - loss: 0.1689 - acc: 0.948 - ETA: 1:27 - loss: 0.1672 - acc: 0.948 - ETA: 1:26 - loss: 0.1684 - acc: 0.947 - ETA: 1:25 - loss: 0.1684 - acc: 0.946 - ETA: 1:24 - loss: 0.1673 - acc: 0.947 - ETA: 1:23 - loss: 0.1663 - acc: 0.947 - ETA: 1:22 - loss: 0.1648 - acc: 0.948 - ETA: 1:21 - loss: 0.1638 - acc: 0.949 - ETA: 1:21 - loss: 0.1623 - acc: 0.949 - ETA: 1:20 - loss: 0.1615 - acc: 0.950 - ETA: 1:19 - loss: 0.1605 - acc: 0.950 - ETA: 1:18 - loss: 0.1600 - acc: 0.950 - ETA: 1:17 - loss: 0.1587 - acc: 0.950 - ETA: 1:16 - loss: 0.1578 - acc: 0.951 - ETA: 1:15 - loss: 0.1565 - acc: 0.951 - ETA: 1:14 - loss: 0.1586 - acc: 0.950 - ETA: 1:13 - loss: 0.1577 - acc: 0.951 - ETA: 1:12 - loss: 0.1578 - acc: 0.950 - ETA: 1:11 - loss: 0.1571 - acc: 0.951 - ETA: 1:10 - loss: 0.1565 - acc: 0.951 - ETA: 1:09 - loss: 0.1568 - acc: 0.951 - ETA: 1:08 - loss: 0.1589 - acc: 0.950 - ETA: 1:07 - loss: 0.1577 - acc: 0.951 - ETA: 1:06 - loss: 0.1587 - acc: 0.950 - ETA: 1:05 - loss: 0.1601 - acc: 0.949 - ETA: 1:04 - loss: 0.1593 - acc: 0.950 - ETA: 1:03 - loss: 0.1583 - acc: 0.950 - ETA: 1:02 - loss: 0.1573 - acc: 0.950 - ETA: 1:01 - loss: 0.1561 - acc: 0.951 - ETA: 1:00 - loss: 0.1548 - acc: 0.951 - ETA: 59s - loss: 0.1537 - acc: 0.952 - ETA: 58s - loss: 0.1525 - acc: 0.95 - ETA: 57s - loss: 0.1538 - acc: 0.95 - ETA: 56s - loss: 0.1538 - acc: 0.95 - ETA: 55s - loss: 0.1526 - acc: 0.95 - ETA: 54s - loss: 0.1516 - acc: 0.95 - ETA: 53s - loss: 0.1570 - acc: 0.95 - ETA: 52s - loss: 0.1559 - acc: 0.95 - ETA: 51s - loss: 0.1560 - acc: 0.95 - ETA: 50s - loss: 0.1556 - acc: 0.95 - ETA: 49s - loss: 0.1545 - acc: 0.95 - ETA: 48s - loss: 0.1536 - acc: 0.95 - ETA: 47s - loss: 0.1528 - acc: 0.95 - ETA: 46s - loss: 0.1519 - acc: 0.95 - ETA: 45s - loss: 0.1530 - acc: 0.95 - ETA: 44s - loss: 0.1545 - acc: 0.95 - ETA: 43s - loss: 0.1537 - acc: 0.95 - ETA: 42s - loss: 0.1531 - acc: 0.95 - ETA: 41s - loss: 0.1558 - acc: 0.95 - ETA: 40s - loss: 0.1548 - acc: 0.95 - ETA: 39s - loss: 0.1539 - acc: 0.95 - ETA: 38s - loss: 0.1540 - acc: 0.95 - ETA: 37s - loss: 0.1533 - acc: 0.95 - ETA: 36s - loss: 0.1529 - acc: 0.95 - ETA: 35s - loss: 0.1553 - acc: 0.95 - ETA: 34s - loss: 0.1552 - acc: 0.95 - ETA: 33s - loss: 0.1543 - acc: 0.95 - ETA: 32s - loss: 0.1536 - acc: 0.95 - ETA: 31s - loss: 0.1550 - acc: 0.95 - ETA: 30s - loss: 0.1544 - acc: 0.95 - ETA: 29s - loss: 0.1536 - acc: 0.95 - ETA: 28s - loss: 0.1528 - acc: 0.95 - ETA: 27s - loss: 0.1519 - acc: 0.95 - ETA: 26s - loss: 0.1514 - acc: 0.95 - ETA: 25s - loss: 0.1510 - acc: 0.95 - ETA: 24s - loss: 0.1523 - acc: 0.95 - ETA: 23s - loss: 0.1522 - acc: 0.95 - ETA: 22s - loss: 0.1513 - acc: 0.95 - ETA: 21s - loss: 0.1504 - acc: 0.95 - ETA: 20s - loss: 0.1499 - acc: 0.95 - ETA: 19s - loss: 0.1493 - acc: 0.95 - ETA: 18s - loss: 0.1484 - acc: 0.95 - ETA: 17s - loss: 0.1480 - acc: 0.95 - ETA: 16s - loss: 0.1472 - acc: 0.95 - ETA: 15s - loss: 0.1465 - acc: 0.95 - ETA: 14s - loss: 0.1456 - acc: 0.95 - ETA: 13s - loss: 0.1454 - acc: 0.95 - ETA: 12s - loss: 0.1445 - acc: 0.95 - ETA: 11s - loss: 0.1438 - acc: 0.95 - ETA: 10s - loss: 0.1436 - acc: 0.95 - ETA: 9s - loss: 0.1452 - acc: 0.9538 - ETA: 8s - loss: 0.1457 - acc: 0.953 - ETA: 7s - loss: 0.1449 - acc: 0.953 - ETA: 6s - loss: 0.1483 - acc: 0.953 - ETA: 5s - loss: 0.1482 - acc: 0.953 - ETA: 4s - loss: 0.1476 - acc: 0.953 - ETA: 3s - loss: 0.1472 - acc: 0.953 - ETA: 2s - loss: 0.1465 - acc: 0.953 - ETA: 1s - loss: 0.1460 - acc: 0.954 - ETA: 0s - loss: 0.1475 - acc: 0.953 - 216s 1s/step - loss: 0.1469 - acc: 0.9541 - val_loss: 0.1393 - val_acc: 0.9648\n",
      "Epoch 3/10\n"
     ]
    },
    {
     "name": "stdout",
     "output_type": "stream",
     "text": [
      "181/181 [==============================] - ETA: 2:57 - loss: 0.0252 - acc: 1.000 - ETA: 2:45 - loss: 0.0186 - acc: 1.000 - ETA: 2:48 - loss: 0.0345 - acc: 1.000 - ETA: 2:48 - loss: 0.1836 - acc: 0.975 - ETA: 2:49 - loss: 0.1678 - acc: 0.960 - ETA: 2:48 - loss: 0.1444 - acc: 0.966 - ETA: 2:48 - loss: 0.1292 - acc: 0.971 - ETA: 2:47 - loss: 0.1180 - acc: 0.975 - ETA: 2:52 - loss: 0.1515 - acc: 0.955 - ETA: 2:51 - loss: 0.1409 - acc: 0.960 - ETA: 2:49 - loss: 0.1338 - acc: 0.963 - ETA: 2:48 - loss: 0.1526 - acc: 0.950 - ETA: 2:47 - loss: 0.1441 - acc: 0.953 - ETA: 2:46 - loss: 0.1486 - acc: 0.950 - ETA: 2:45 - loss: 0.1412 - acc: 0.953 - ETA: 2:44 - loss: 0.1345 - acc: 0.956 - ETA: 2:43 - loss: 0.1294 - acc: 0.958 - ETA: 2:42 - loss: 0.1295 - acc: 0.955 - ETA: 2:41 - loss: 0.1355 - acc: 0.952 - ETA: 2:40 - loss: 0.1307 - acc: 0.955 - ETA: 2:39 - loss: 0.1440 - acc: 0.952 - ETA: 2:38 - loss: 0.1391 - acc: 0.954 - ETA: 2:37 - loss: 0.1421 - acc: 0.952 - ETA: 2:36 - loss: 0.1538 - acc: 0.950 - ETA: 2:34 - loss: 0.1491 - acc: 0.952 - ETA: 2:33 - loss: 0.1439 - acc: 0.953 - ETA: 2:32 - loss: 0.1395 - acc: 0.955 - ETA: 2:31 - loss: 0.1362 - acc: 0.957 - ETA: 2:30 - loss: 0.1337 - acc: 0.958 - ETA: 2:29 - loss: 0.1440 - acc: 0.956 - ETA: 2:28 - loss: 0.1411 - acc: 0.958 - ETA: 2:27 - loss: 0.1375 - acc: 0.959 - ETA: 2:26 - loss: 0.1445 - acc: 0.957 - ETA: 2:25 - loss: 0.1406 - acc: 0.958 - ETA: 2:24 - loss: 0.1389 - acc: 0.960 - ETA: 2:23 - loss: 0.1359 - acc: 0.961 - ETA: 2:22 - loss: 0.1372 - acc: 0.959 - ETA: 2:21 - loss: 0.1342 - acc: 0.960 - ETA: 2:20 - loss: 0.1323 - acc: 0.961 - ETA: 2:19 - loss: 0.1295 - acc: 0.962 - ETA: 2:18 - loss: 0.1297 - acc: 0.961 - ETA: 2:17 - loss: 0.1269 - acc: 0.961 - ETA: 2:16 - loss: 0.1251 - acc: 0.962 - ETA: 2:15 - loss: 0.1227 - acc: 0.963 - ETA: 2:14 - loss: 0.1254 - acc: 0.962 - ETA: 2:13 - loss: 0.1231 - acc: 0.963 - ETA: 2:12 - loss: 0.1207 - acc: 0.963 - ETA: 2:11 - loss: 0.1192 - acc: 0.964 - ETA: 2:10 - loss: 0.1171 - acc: 0.965 - ETA: 2:09 - loss: 0.1231 - acc: 0.964 - ETA: 2:08 - loss: 0.1209 - acc: 0.964 - ETA: 2:07 - loss: 0.1209 - acc: 0.963 - ETA: 2:06 - loss: 0.1241 - acc: 0.962 - ETA: 2:05 - loss: 0.1223 - acc: 0.963 - ETA: 2:04 - loss: 0.1207 - acc: 0.963 - ETA: 2:03 - loss: 0.1200 - acc: 0.962 - ETA: 2:02 - loss: 0.1215 - acc: 0.961 - ETA: 2:01 - loss: 0.1278 - acc: 0.960 - ETA: 2:00 - loss: 0.1258 - acc: 0.961 - ETA: 1:59 - loss: 0.1241 - acc: 0.961 - ETA: 1:58 - loss: 0.1222 - acc: 0.962 - ETA: 1:57 - loss: 0.1250 - acc: 0.959 - ETA: 1:56 - loss: 0.1238 - acc: 0.960 - ETA: 1:55 - loss: 0.1220 - acc: 0.960 - ETA: 1:54 - loss: 0.1215 - acc: 0.960 - ETA: 1:53 - loss: 0.1210 - acc: 0.959 - ETA: 1:52 - loss: 0.1197 - acc: 0.959 - ETA: 1:51 - loss: 0.1198 - acc: 0.958 - ETA: 1:50 - loss: 0.1312 - acc: 0.958 - ETA: 1:49 - loss: 0.1311 - acc: 0.957 - ETA: 1:48 - loss: 0.1294 - acc: 0.957 - ETA: 1:47 - loss: 0.1280 - acc: 0.958 - ETA: 1:46 - loss: 0.1274 - acc: 0.958 - ETA: 1:45 - loss: 0.1257 - acc: 0.959 - ETA: 1:44 - loss: 0.1243 - acc: 0.960 - ETA: 1:43 - loss: 0.1230 - acc: 0.960 - ETA: 1:42 - loss: 0.1215 - acc: 0.961 - ETA: 1:41 - loss: 0.1207 - acc: 0.961 - ETA: 1:40 - loss: 0.1194 - acc: 0.962 - ETA: 1:39 - loss: 0.1192 - acc: 0.961 - ETA: 1:38 - loss: 0.1178 - acc: 0.961 - ETA: 1:37 - loss: 0.1181 - acc: 0.961 - ETA: 1:36 - loss: 0.1170 - acc: 0.961 - ETA: 1:35 - loss: 0.1157 - acc: 0.961 - ETA: 1:34 - loss: 0.1144 - acc: 0.962 - ETA: 1:33 - loss: 0.1155 - acc: 0.961 - ETA: 1:32 - loss: 0.1190 - acc: 0.960 - ETA: 1:31 - loss: 0.1264 - acc: 0.960 - ETA: 1:30 - loss: 0.1251 - acc: 0.960 - ETA: 1:29 - loss: 0.1240 - acc: 0.961 - ETA: 1:28 - loss: 0.1248 - acc: 0.960 - ETA: 1:27 - loss: 0.1267 - acc: 0.959 - ETA: 1:26 - loss: 0.1255 - acc: 0.960 - ETA: 1:25 - loss: 0.1245 - acc: 0.960 - ETA: 1:25 - loss: 0.1281 - acc: 0.960 - ETA: 1:24 - loss: 0.1270 - acc: 0.960 - ETA: 1:23 - loss: 0.1281 - acc: 0.959 - ETA: 1:22 - loss: 0.1285 - acc: 0.959 - ETA: 1:21 - loss: 0.1274 - acc: 0.959 - ETA: 1:20 - loss: 0.1265 - acc: 0.960 - ETA: 1:19 - loss: 0.1254 - acc: 0.960 - ETA: 1:18 - loss: 0.1243 - acc: 0.960 - ETA: 1:17 - loss: 0.1244 - acc: 0.960 - ETA: 1:16 - loss: 0.1233 - acc: 0.960 - ETA: 1:15 - loss: 0.1225 - acc: 0.961 - ETA: 1:14 - loss: 0.1219 - acc: 0.961 - ETA: 1:13 - loss: 0.1236 - acc: 0.960 - ETA: 1:12 - loss: 0.1229 - acc: 0.961 - ETA: 1:11 - loss: 0.1220 - acc: 0.961 - ETA: 1:10 - loss: 0.1238 - acc: 0.960 - ETA: 1:09 - loss: 0.1233 - acc: 0.961 - ETA: 1:08 - loss: 0.1233 - acc: 0.961 - ETA: 1:07 - loss: 0.1224 - acc: 0.961 - ETA: 1:06 - loss: 0.1215 - acc: 0.962 - ETA: 1:05 - loss: 0.1205 - acc: 0.962 - ETA: 1:04 - loss: 0.1202 - acc: 0.962 - ETA: 1:03 - loss: 0.1200 - acc: 0.962 - ETA: 1:02 - loss: 0.1191 - acc: 0.962 - ETA: 1:01 - loss: 0.1182 - acc: 0.963 - ETA: 1:00 - loss: 0.1175 - acc: 0.963 - ETA: 59s - loss: 0.1167 - acc: 0.963 - ETA: 58s - loss: 0.1159 - acc: 0.96 - ETA: 57s - loss: 0.1196 - acc: 0.96 - ETA: 56s - loss: 0.1194 - acc: 0.96 - ETA: 55s - loss: 0.1187 - acc: 0.96 - ETA: 54s - loss: 0.1178 - acc: 0.96 - ETA: 53s - loss: 0.1185 - acc: 0.96 - ETA: 52s - loss: 0.1176 - acc: 0.96 - ETA: 51s - loss: 0.1173 - acc: 0.96 - ETA: 50s - loss: 0.1165 - acc: 0.96 - ETA: 49s - loss: 0.1157 - acc: 0.96 - ETA: 48s - loss: 0.1190 - acc: 0.96 - ETA: 47s - loss: 0.1202 - acc: 0.96 - ETA: 46s - loss: 0.1195 - acc: 0.96 - ETA: 45s - loss: 0.1225 - acc: 0.96 - ETA: 44s - loss: 0.1251 - acc: 0.96 - ETA: 43s - loss: 0.1243 - acc: 0.96 - ETA: 42s - loss: 0.1236 - acc: 0.96 - ETA: 41s - loss: 0.1227 - acc: 0.96 - ETA: 40s - loss: 0.1226 - acc: 0.96 - ETA: 39s - loss: 0.1219 - acc: 0.96 - ETA: 38s - loss: 0.1212 - acc: 0.96 - ETA: 37s - loss: 0.1207 - acc: 0.96 - ETA: 36s - loss: 0.1199 - acc: 0.96 - ETA: 35s - loss: 0.1194 - acc: 0.96 - ETA: 34s - loss: 0.1188 - acc: 0.96 - ETA: 33s - loss: 0.1180 - acc: 0.96 - ETA: 32s - loss: 0.1173 - acc: 0.96 - ETA: 31s - loss: 0.1167 - acc: 0.96 - ETA: 30s - loss: 0.1198 - acc: 0.96 - ETA: 29s - loss: 0.1191 - acc: 0.96 - ETA: 28s - loss: 0.1183 - acc: 0.96 - ETA: 27s - loss: 0.1194 - acc: 0.96 - ETA: 26s - loss: 0.1187 - acc: 0.96 - ETA: 25s - loss: 0.1180 - acc: 0.96 - ETA: 24s - loss: 0.1185 - acc: 0.96 - ETA: 23s - loss: 0.1182 - acc: 0.96 - ETA: 22s - loss: 0.1176 - acc: 0.96 - ETA: 21s - loss: 0.1169 - acc: 0.96 - ETA: 20s - loss: 0.1176 - acc: 0.96 - ETA: 19s - loss: 0.1171 - acc: 0.96 - ETA: 18s - loss: 0.1173 - acc: 0.96 - ETA: 17s - loss: 0.1176 - acc: 0.96 - ETA: 16s - loss: 0.1190 - acc: 0.96 - ETA: 15s - loss: 0.1186 - acc: 0.96 - ETA: 14s - loss: 0.1179 - acc: 0.96 - ETA: 13s - loss: 0.1174 - acc: 0.96 - ETA: 12s - loss: 0.1168 - acc: 0.96 - ETA: 11s - loss: 0.1161 - acc: 0.96 - ETA: 10s - loss: 0.1155 - acc: 0.96 - ETA: 9s - loss: 0.1149 - acc: 0.9649 - ETA: 8s - loss: 0.1142 - acc: 0.965 - ETA: 7s - loss: 0.1153 - acc: 0.964 - ETA: 6s - loss: 0.1155 - acc: 0.964 - ETA: 5s - loss: 0.1148 - acc: 0.964 - ETA: 4s - loss: 0.1147 - acc: 0.964 - ETA: 3s - loss: 0.1143 - acc: 0.965 - ETA: 2s - loss: 0.1138 - acc: 0.965 - ETA: 1s - loss: 0.1140 - acc: 0.964 - ETA: 0s - loss: 0.1134 - acc: 0.965 - 216s 1s/step - loss: 0.1178 - acc: 0.9641 - val_loss: 0.1292 - val_acc: 0.9670\n",
      "Epoch 4/10\n"
     ]
    },
    {
     "name": "stdout",
     "output_type": "stream",
     "text": [
      "181/181 [==============================] - ETA: 2:56 - loss: 0.0028 - acc: 1.000 - ETA: 2:56 - loss: 0.0037 - acc: 1.000 - ETA: 2:48 - loss: 0.0041 - acc: 1.000 - ETA: 2:49 - loss: 0.0046 - acc: 1.000 - ETA: 2:49 - loss: 0.0461 - acc: 0.980 - ETA: 2:49 - loss: 0.0393 - acc: 0.983 - ETA: 2:49 - loss: 0.0383 - acc: 0.985 - ETA: 2:48 - loss: 0.0341 - acc: 0.987 - ETA: 2:47 - loss: 0.0323 - acc: 0.988 - ETA: 2:46 - loss: 0.0304 - acc: 0.990 - ETA: 2:46 - loss: 0.0282 - acc: 0.990 - ETA: 2:45 - loss: 0.0273 - acc: 0.991 - ETA: 2:44 - loss: 0.0260 - acc: 0.992 - ETA: 2:43 - loss: 0.0601 - acc: 0.985 - ETA: 2:42 - loss: 0.0572 - acc: 0.986 - ETA: 2:41 - loss: 0.0545 - acc: 0.987 - ETA: 2:40 - loss: 0.0518 - acc: 0.988 - ETA: 2:39 - loss: 0.0527 - acc: 0.988 - ETA: 2:38 - loss: 0.0502 - acc: 0.989 - ETA: 2:38 - loss: 0.0485 - acc: 0.990 - ETA: 2:37 - loss: 0.0463 - acc: 0.990 - ETA: 2:36 - loss: 0.0445 - acc: 0.990 - ETA: 2:35 - loss: 0.0438 - acc: 0.991 - ETA: 2:34 - loss: 0.0422 - acc: 0.991 - ETA: 2:33 - loss: 0.0412 - acc: 0.992 - ETA: 2:32 - loss: 0.0398 - acc: 0.992 - ETA: 2:31 - loss: 0.0385 - acc: 0.992 - ETA: 2:30 - loss: 0.0372 - acc: 0.992 - ETA: 2:29 - loss: 0.0362 - acc: 0.993 - ETA: 2:28 - loss: 0.0358 - acc: 0.993 - ETA: 2:27 - loss: 0.0384 - acc: 0.990 - ETA: 2:26 - loss: 0.0375 - acc: 0.990 - ETA: 2:25 - loss: 0.0367 - acc: 0.990 - ETA: 2:24 - loss: 0.0357 - acc: 0.991 - ETA: 2:23 - loss: 0.0353 - acc: 0.991 - ETA: 2:22 - loss: 0.0344 - acc: 0.991 - ETA: 2:21 - loss: 0.0336 - acc: 0.991 - ETA: 2:20 - loss: 0.0331 - acc: 0.992 - ETA: 2:19 - loss: 0.0329 - acc: 0.992 - ETA: 2:18 - loss: 0.0326 - acc: 0.992 - ETA: 2:17 - loss: 0.0327 - acc: 0.992 - ETA: 2:16 - loss: 0.0321 - acc: 0.992 - ETA: 2:15 - loss: 0.0317 - acc: 0.993 - ETA: 2:14 - loss: 0.0319 - acc: 0.993 - ETA: 2:13 - loss: 0.0312 - acc: 0.993 - ETA: 2:12 - loss: 0.0315 - acc: 0.993 - ETA: 2:11 - loss: 0.0310 - acc: 0.993 - ETA: 2:10 - loss: 0.0322 - acc: 0.991 - ETA: 2:09 - loss: 0.0345 - acc: 0.989 - ETA: 2:08 - loss: 0.0345 - acc: 0.990 - ETA: 2:07 - loss: 0.0413 - acc: 0.988 - ETA: 2:07 - loss: 0.0406 - acc: 0.988 - ETA: 2:06 - loss: 0.0399 - acc: 0.988 - ETA: 2:05 - loss: 0.0428 - acc: 0.987 - ETA: 2:04 - loss: 0.0421 - acc: 0.987 - ETA: 2:03 - loss: 0.0480 - acc: 0.985 - ETA: 2:02 - loss: 0.0487 - acc: 0.986 - ETA: 2:01 - loss: 0.0479 - acc: 0.986 - ETA: 2:00 - loss: 0.0474 - acc: 0.986 - ETA: 1:59 - loss: 0.0467 - acc: 0.986 - ETA: 1:58 - loss: 0.0462 - acc: 0.986 - ETA: 1:57 - loss: 0.0614 - acc: 0.985 - ETA: 1:56 - loss: 0.0605 - acc: 0.985 - ETA: 1:55 - loss: 0.0596 - acc: 0.985 - ETA: 1:54 - loss: 0.0589 - acc: 0.986 - ETA: 1:53 - loss: 0.0580 - acc: 0.986 - ETA: 1:52 - loss: 0.0574 - acc: 0.986 - ETA: 1:51 - loss: 0.0573 - acc: 0.986 - ETA: 1:50 - loss: 0.0565 - acc: 0.987 - ETA: 1:49 - loss: 0.0557 - acc: 0.987 - ETA: 1:48 - loss: 0.0623 - acc: 0.985 - ETA: 1:47 - loss: 0.0616 - acc: 0.986 - ETA: 1:46 - loss: 0.0607 - acc: 0.986 - ETA: 1:45 - loss: 0.0616 - acc: 0.985 - ETA: 1:44 - loss: 0.0610 - acc: 0.985 - ETA: 1:43 - loss: 0.0787 - acc: 0.982 - ETA: 1:42 - loss: 0.0777 - acc: 0.983 - ETA: 1:41 - loss: 0.0768 - acc: 0.983 - ETA: 1:40 - loss: 0.0782 - acc: 0.982 - ETA: 1:39 - loss: 0.0839 - acc: 0.980 - ETA: 1:38 - loss: 0.0896 - acc: 0.979 - ETA: 1:37 - loss: 0.0889 - acc: 0.979 - ETA: 1:36 - loss: 0.0915 - acc: 0.978 - ETA: 1:35 - loss: 0.0907 - acc: 0.978 - ETA: 1:34 - loss: 0.0953 - acc: 0.976 - ETA: 1:33 - loss: 0.0965 - acc: 0.974 - ETA: 1:32 - loss: 0.0971 - acc: 0.973 - ETA: 1:31 - loss: 0.0963 - acc: 0.973 - ETA: 1:30 - loss: 0.0956 - acc: 0.974 - ETA: 1:29 - loss: 0.0949 - acc: 0.974 - ETA: 1:28 - loss: 0.0944 - acc: 0.974 - ETA: 1:27 - loss: 0.0943 - acc: 0.975 - ETA: 1:26 - loss: 0.0949 - acc: 0.974 - ETA: 1:25 - loss: 0.0951 - acc: 0.974 - ETA: 1:24 - loss: 0.0943 - acc: 0.974 - ETA: 1:23 - loss: 0.0978 - acc: 0.974 - ETA: 1:22 - loss: 0.0974 - acc: 0.974 - ETA: 1:21 - loss: 0.0979 - acc: 0.973 - ETA: 1:20 - loss: 0.0994 - acc: 0.972 - ETA: 1:19 - loss: 0.0986 - acc: 0.973 - ETA: 1:18 - loss: 0.0980 - acc: 0.973 - ETA: 1:17 - loss: 0.1006 - acc: 0.972 - ETA: 1:16 - loss: 0.1000 - acc: 0.972 - ETA: 1:15 - loss: 0.0992 - acc: 0.973 - ETA: 1:14 - loss: 0.0984 - acc: 0.973 - ETA: 1:13 - loss: 0.0979 - acc: 0.973 - ETA: 1:12 - loss: 0.0972 - acc: 0.973 - ETA: 1:11 - loss: 0.0974 - acc: 0.973 - ETA: 1:10 - loss: 0.0970 - acc: 0.973 - ETA: 1:09 - loss: 0.0966 - acc: 0.973 - ETA: 1:09 - loss: 0.0961 - acc: 0.973 - ETA: 1:08 - loss: 0.0956 - acc: 0.974 - ETA: 1:07 - loss: 0.0973 - acc: 0.973 - ETA: 1:06 - loss: 0.0966 - acc: 0.973 - ETA: 1:05 - loss: 0.0966 - acc: 0.973 - ETA: 1:04 - loss: 0.0961 - acc: 0.974 - ETA: 1:03 - loss: 0.0953 - acc: 0.974 - ETA: 1:02 - loss: 0.0958 - acc: 0.973 - ETA: 1:01 - loss: 0.0952 - acc: 0.973 - ETA: 1:00 - loss: 0.0945 - acc: 0.974 - ETA: 59s - loss: 0.0938 - acc: 0.974 - ETA: 58s - loss: 0.0991 - acc: 0.97 - ETA: 57s - loss: 0.1018 - acc: 0.97 - ETA: 56s - loss: 0.1011 - acc: 0.97 - ETA: 55s - loss: 0.1003 - acc: 0.97 - ETA: 54s - loss: 0.1034 - acc: 0.97 - ETA: 53s - loss: 0.1028 - acc: 0.97 - ETA: 52s - loss: 0.1021 - acc: 0.97 - ETA: 51s - loss: 0.1013 - acc: 0.97 - ETA: 50s - loss: 0.1014 - acc: 0.97 - ETA: 49s - loss: 0.1037 - acc: 0.97 - ETA: 48s - loss: 0.1035 - acc: 0.97 - ETA: 47s - loss: 0.1028 - acc: 0.97 - ETA: 46s - loss: 0.1028 - acc: 0.97 - ETA: 45s - loss: 0.1021 - acc: 0.97 - ETA: 44s - loss: 0.1053 - acc: 0.97 - ETA: 43s - loss: 0.1048 - acc: 0.97 - ETA: 42s - loss: 0.1042 - acc: 0.97 - ETA: 41s - loss: 0.1043 - acc: 0.97 - ETA: 40s - loss: 0.1036 - acc: 0.97 - ETA: 39s - loss: 0.1048 - acc: 0.97 - ETA: 38s - loss: 0.1041 - acc: 0.97 - ETA: 37s - loss: 0.1080 - acc: 0.97 - ETA: 36s - loss: 0.1077 - acc: 0.97 - ETA: 35s - loss: 0.1072 - acc: 0.97 - ETA: 34s - loss: 0.1065 - acc: 0.97 - ETA: 33s - loss: 0.1073 - acc: 0.97 - ETA: 32s - loss: 0.1067 - acc: 0.97 - ETA: 31s - loss: 0.1061 - acc: 0.97 - ETA: 30s - loss: 0.1060 - acc: 0.97 - ETA: 29s - loss: 0.1069 - acc: 0.97 - ETA: 28s - loss: 0.1062 - acc: 0.97 - ETA: 27s - loss: 0.1079 - acc: 0.96 - ETA: 26s - loss: 0.1078 - acc: 0.97 - ETA: 25s - loss: 0.1088 - acc: 0.96 - ETA: 24s - loss: 0.1082 - acc: 0.96 - ETA: 23s - loss: 0.1076 - acc: 0.97 - ETA: 22s - loss: 0.1083 - acc: 0.96 - ETA: 21s - loss: 0.1077 - acc: 0.96 - ETA: 20s - loss: 0.1087 - acc: 0.96 - ETA: 19s - loss: 0.1081 - acc: 0.96 - ETA: 18s - loss: 0.1085 - acc: 0.96 - ETA: 17s - loss: 0.1079 - acc: 0.96 - ETA: 16s - loss: 0.1073 - acc: 0.96 - ETA: 15s - loss: 0.1073 - acc: 0.96 - ETA: 14s - loss: 0.1071 - acc: 0.96 - ETA: 13s - loss: 0.1079 - acc: 0.96 - ETA: 12s - loss: 0.1073 - acc: 0.96 - ETA: 11s - loss: 0.1072 - acc: 0.96 - ETA: 10s - loss: 0.1071 - acc: 0.96 - ETA: 9s - loss: 0.1068 - acc: 0.9690 - ETA: 8s - loss: 0.1064 - acc: 0.969 - ETA: 7s - loss: 0.1061 - acc: 0.969 - ETA: 6s - loss: 0.1057 - acc: 0.969 - ETA: 5s - loss: 0.1073 - acc: 0.969 - ETA: 4s - loss: 0.1076 - acc: 0.968 - ETA: 3s - loss: 0.1072 - acc: 0.968 - ETA: 2s - loss: 0.1076 - acc: 0.968 - ETA: 1s - loss: 0.1075 - acc: 0.968 - ETA: 0s - loss: 0.1070 - acc: 0.968 - 216s 1s/step - loss: 0.1088 - acc: 0.9680 - val_loss: 0.1270 - val_acc: 0.9604\n",
      "Epoch 5/10\n"
     ]
    },
    {
     "name": "stdout",
     "output_type": "stream",
     "text": [
      "181/181 [==============================] - ETA: 2:57 - loss: 0.0089 - acc: 1.000 - ETA: 2:56 - loss: 0.0066 - acc: 1.000 - ETA: 2:55 - loss: 0.0109 - acc: 1.000 - ETA: 2:49 - loss: 0.0090 - acc: 1.000 - ETA: 2:49 - loss: 0.0113 - acc: 1.000 - ETA: 2:49 - loss: 0.0109 - acc: 1.000 - ETA: 2:48 - loss: 0.0129 - acc: 1.000 - ETA: 2:48 - loss: 0.0135 - acc: 1.000 - ETA: 2:47 - loss: 0.0215 - acc: 0.988 - ETA: 2:46 - loss: 0.0227 - acc: 0.990 - ETA: 2:45 - loss: 0.0218 - acc: 0.990 - ETA: 2:44 - loss: 0.0203 - acc: 0.991 - ETA: 2:44 - loss: 0.0194 - acc: 0.992 - ETA: 2:43 - loss: 0.0189 - acc: 0.992 - ETA: 2:42 - loss: 0.0195 - acc: 0.993 - ETA: 2:41 - loss: 0.0381 - acc: 0.987 - ETA: 2:40 - loss: 0.0408 - acc: 0.988 - ETA: 2:39 - loss: 0.0553 - acc: 0.983 - ETA: 2:38 - loss: 0.0535 - acc: 0.984 - ETA: 2:37 - loss: 0.0522 - acc: 0.985 - ETA: 2:36 - loss: 0.0516 - acc: 0.985 - ETA: 2:36 - loss: 0.0500 - acc: 0.986 - ETA: 2:35 - loss: 0.0556 - acc: 0.982 - ETA: 2:34 - loss: 0.0534 - acc: 0.983 - ETA: 2:33 - loss: 0.0543 - acc: 0.984 - ETA: 2:32 - loss: 0.0529 - acc: 0.984 - ETA: 2:31 - loss: 0.0823 - acc: 0.977 - ETA: 2:30 - loss: 0.0804 - acc: 0.978 - ETA: 2:29 - loss: 0.0778 - acc: 0.979 - ETA: 2:28 - loss: 0.0760 - acc: 0.980 - ETA: 2:27 - loss: 0.0737 - acc: 0.980 - ETA: 2:26 - loss: 0.0720 - acc: 0.981 - ETA: 2:25 - loss: 0.0878 - acc: 0.972 - ETA: 2:24 - loss: 0.0873 - acc: 0.973 - ETA: 2:23 - loss: 0.0855 - acc: 0.974 - ETA: 2:22 - loss: 0.0855 - acc: 0.972 - ETA: 2:21 - loss: 0.0838 - acc: 0.973 - ETA: 2:20 - loss: 0.0849 - acc: 0.971 - ETA: 2:19 - loss: 0.0861 - acc: 0.969 - ETA: 2:18 - loss: 0.0844 - acc: 0.970 - ETA: 2:17 - loss: 0.0825 - acc: 0.970 - ETA: 2:16 - loss: 0.0808 - acc: 0.971 - ETA: 2:15 - loss: 0.0815 - acc: 0.969 - ETA: 2:14 - loss: 0.0798 - acc: 0.970 - ETA: 2:13 - loss: 0.0792 - acc: 0.971 - ETA: 2:12 - loss: 0.0780 - acc: 0.971 - ETA: 2:12 - loss: 0.0768 - acc: 0.972 - ETA: 2:11 - loss: 0.0785 - acc: 0.970 - ETA: 2:10 - loss: 0.0771 - acc: 0.971 - ETA: 2:09 - loss: 0.0760 - acc: 0.972 - ETA: 2:08 - loss: 0.0806 - acc: 0.970 - ETA: 2:07 - loss: 0.0832 - acc: 0.969 - ETA: 2:06 - loss: 0.0832 - acc: 0.969 - ETA: 2:05 - loss: 0.0820 - acc: 0.970 - ETA: 2:04 - loss: 0.0817 - acc: 0.970 - ETA: 2:03 - loss: 0.0859 - acc: 0.969 - ETA: 2:02 - loss: 0.0853 - acc: 0.970 - ETA: 2:01 - loss: 0.0843 - acc: 0.970 - ETA: 2:00 - loss: 0.0830 - acc: 0.971 - ETA: 1:59 - loss: 0.0819 - acc: 0.971 - ETA: 1:58 - loss: 0.0852 - acc: 0.970 - ETA: 1:57 - loss: 0.0843 - acc: 0.971 - ETA: 1:56 - loss: 0.0859 - acc: 0.969 - ETA: 1:55 - loss: 0.0849 - acc: 0.970 - ETA: 1:54 - loss: 0.0846 - acc: 0.970 - ETA: 1:53 - loss: 0.0835 - acc: 0.971 - ETA: 1:52 - loss: 0.0824 - acc: 0.971 - ETA: 1:51 - loss: 0.0814 - acc: 0.972 - ETA: 1:50 - loss: 0.0803 - acc: 0.972 - ETA: 1:49 - loss: 0.0798 - acc: 0.972 - ETA: 1:48 - loss: 0.0858 - acc: 0.971 - ETA: 1:47 - loss: 0.0865 - acc: 0.970 - ETA: 1:46 - loss: 0.0868 - acc: 0.969 - ETA: 1:45 - loss: 0.0900 - acc: 0.968 - ETA: 1:44 - loss: 0.0896 - acc: 0.969 - ETA: 1:43 - loss: 0.0885 - acc: 0.969 - ETA: 1:42 - loss: 0.0932 - acc: 0.967 - ETA: 1:41 - loss: 0.0928 - acc: 0.967 - ETA: 1:40 - loss: 0.0919 - acc: 0.968 - ETA: 1:39 - loss: 0.0909 - acc: 0.968 - ETA: 1:38 - loss: 0.0900 - acc: 0.969 - ETA: 1:37 - loss: 0.0928 - acc: 0.968 - ETA: 1:36 - loss: 0.0924 - acc: 0.968 - ETA: 1:35 - loss: 0.0916 - acc: 0.969 - ETA: 1:34 - loss: 0.0909 - acc: 0.969 - ETA: 1:33 - loss: 0.0902 - acc: 0.969 - ETA: 1:32 - loss: 0.0895 - acc: 0.970 - ETA: 1:31 - loss: 0.0896 - acc: 0.970 - ETA: 1:30 - loss: 0.0910 - acc: 0.969 - ETA: 1:29 - loss: 0.0903 - acc: 0.970 - ETA: 1:28 - loss: 0.0924 - acc: 0.969 - ETA: 1:27 - loss: 0.0915 - acc: 0.969 - ETA: 1:26 - loss: 0.0907 - acc: 0.969 - ETA: 1:25 - loss: 0.0931 - acc: 0.969 - ETA: 1:24 - loss: 0.0928 - acc: 0.969 - ETA: 1:23 - loss: 0.0921 - acc: 0.969 - ETA: 1:22 - loss: 0.0915 - acc: 0.970 - ETA: 1:21 - loss: 0.0912 - acc: 0.970 - ETA: 1:20 - loss: 0.0965 - acc: 0.969 - ETA: 1:20 - loss: 0.0955 - acc: 0.970 - ETA: 1:19 - loss: 0.0966 - acc: 0.969 - ETA: 1:18 - loss: 0.0965 - acc: 0.968 - ETA: 1:17 - loss: 0.0991 - acc: 0.968 - ETA: 1:16 - loss: 0.0983 - acc: 0.968 - ETA: 1:15 - loss: 0.0975 - acc: 0.968 - ETA: 1:14 - loss: 0.0968 - acc: 0.968 - ETA: 1:13 - loss: 0.0961 - acc: 0.969 - ETA: 1:12 - loss: 0.0952 - acc: 0.969 - ETA: 1:11 - loss: 0.0955 - acc: 0.968 - ETA: 1:10 - loss: 0.0947 - acc: 0.969 - ETA: 1:09 - loss: 0.0943 - acc: 0.969 - ETA: 1:08 - loss: 0.0995 - acc: 0.967 - ETA: 1:07 - loss: 0.1003 - acc: 0.966 - ETA: 1:06 - loss: 0.0996 - acc: 0.966 - ETA: 1:05 - loss: 0.0988 - acc: 0.967 - ETA: 1:04 - loss: 0.0982 - acc: 0.967 - ETA: 1:03 - loss: 0.0984 - acc: 0.967 - ETA: 1:02 - loss: 0.0986 - acc: 0.966 - ETA: 1:01 - loss: 0.0979 - acc: 0.967 - ETA: 1:00 - loss: 0.0972 - acc: 0.967 - ETA: 59s - loss: 0.0968 - acc: 0.967 - ETA: 58s - loss: 0.0961 - acc: 0.96 - ETA: 57s - loss: 0.0960 - acc: 0.96 - ETA: 56s - loss: 0.0954 - acc: 0.96 - ETA: 55s - loss: 0.0949 - acc: 0.96 - ETA: 54s - loss: 0.0942 - acc: 0.96 - ETA: 53s - loss: 0.0944 - acc: 0.96 - ETA: 52s - loss: 0.0947 - acc: 0.96 - ETA: 51s - loss: 0.0953 - acc: 0.96 - ETA: 50s - loss: 0.0949 - acc: 0.96 - ETA: 49s - loss: 0.0943 - acc: 0.96 - ETA: 48s - loss: 0.0936 - acc: 0.96 - ETA: 47s - loss: 0.0945 - acc: 0.96 - ETA: 46s - loss: 0.0948 - acc: 0.96 - ETA: 45s - loss: 0.0952 - acc: 0.96 - ETA: 44s - loss: 0.0949 - acc: 0.96 - ETA: 43s - loss: 0.0943 - acc: 0.96 - ETA: 42s - loss: 0.0945 - acc: 0.96 - ETA: 41s - loss: 0.0938 - acc: 0.96 - ETA: 40s - loss: 0.0933 - acc: 0.96 - ETA: 39s - loss: 0.0929 - acc: 0.96 - ETA: 38s - loss: 0.0923 - acc: 0.96 - ETA: 37s - loss: 0.0917 - acc: 0.96 - ETA: 36s - loss: 0.0918 - acc: 0.96 - ETA: 35s - loss: 0.0911 - acc: 0.96 - ETA: 34s - loss: 0.0905 - acc: 0.96 - ETA: 33s - loss: 0.0900 - acc: 0.96 - ETA: 32s - loss: 0.0896 - acc: 0.96 - ETA: 31s - loss: 0.0890 - acc: 0.96 - ETA: 30s - loss: 0.0885 - acc: 0.96 - ETA: 29s - loss: 0.0880 - acc: 0.96 - ETA: 28s - loss: 0.0874 - acc: 0.96 - ETA: 27s - loss: 0.0868 - acc: 0.96 - ETA: 26s - loss: 0.0863 - acc: 0.96 - ETA: 25s - loss: 0.0859 - acc: 0.96 - ETA: 24s - loss: 0.0855 - acc: 0.96 - ETA: 23s - loss: 0.0850 - acc: 0.97 - ETA: 22s - loss: 0.0845 - acc: 0.97 - ETA: 21s - loss: 0.0840 - acc: 0.97 - ETA: 20s - loss: 0.0836 - acc: 0.97 - ETA: 19s - loss: 0.0831 - acc: 0.97 - ETA: 18s - loss: 0.0866 - acc: 0.97 - ETA: 17s - loss: 0.0861 - acc: 0.97 - ETA: 16s - loss: 0.0867 - acc: 0.97 - ETA: 15s - loss: 0.0878 - acc: 0.96 - ETA: 14s - loss: 0.0880 - acc: 0.96 - ETA: 13s - loss: 0.0875 - acc: 0.96 - ETA: 12s - loss: 0.0871 - acc: 0.96 - ETA: 11s - loss: 0.0870 - acc: 0.96 - ETA: 10s - loss: 0.0981 - acc: 0.96 - ETA: 9s - loss: 0.0976 - acc: 0.9678 - ETA: 8s - loss: 0.0972 - acc: 0.968 - ETA: 7s - loss: 0.0967 - acc: 0.968 - ETA: 6s - loss: 0.0963 - acc: 0.968 - ETA: 5s - loss: 0.0959 - acc: 0.968 - ETA: 4s - loss: 0.0954 - acc: 0.968 - ETA: 3s - loss: 0.0950 - acc: 0.968 - ETA: 2s - loss: 0.0990 - acc: 0.968 - ETA: 1s - loss: 0.0985 - acc: 0.968 - ETA: 0s - loss: 0.0980 - acc: 0.968 - 216s 1s/step - loss: 0.0978 - acc: 0.9685 - val_loss: 0.1110 - val_acc: 0.9692\n",
      "Epoch 6/10\n"
     ]
    },
    {
     "name": "stdout",
     "output_type": "stream",
     "text": [
      "181/181 [==============================] - ETA: 2:58 - loss: 0.0232 - acc: 1.000 - ETA: 2:57 - loss: 0.0257 - acc: 1.000 - ETA: 2:56 - loss: 0.0272 - acc: 1.000 - ETA: 2:55 - loss: 0.0235 - acc: 1.000 - ETA: 2:50 - loss: 0.0212 - acc: 1.000 - ETA: 2:49 - loss: 0.0209 - acc: 1.000 - ETA: 2:49 - loss: 0.0228 - acc: 1.000 - ETA: 2:48 - loss: 0.0215 - acc: 1.000 - ETA: 2:48 - loss: 0.0251 - acc: 1.000 - ETA: 2:47 - loss: 0.0229 - acc: 1.000 - ETA: 2:46 - loss: 0.0363 - acc: 0.990 - ETA: 2:45 - loss: 0.0339 - acc: 0.991 - ETA: 2:45 - loss: 0.0316 - acc: 0.992 - ETA: 2:44 - loss: 0.0303 - acc: 0.992 - ETA: 2:43 - loss: 0.0448 - acc: 0.986 - ETA: 2:42 - loss: 0.0434 - acc: 0.987 - ETA: 2:41 - loss: 0.0411 - acc: 0.988 - ETA: 2:40 - loss: 0.0410 - acc: 0.988 - ETA: 2:39 - loss: 0.0390 - acc: 0.989 - ETA: 2:38 - loss: 0.0404 - acc: 0.990 - ETA: 2:37 - loss: 0.0387 - acc: 0.990 - ETA: 2:36 - loss: 0.0378 - acc: 0.990 - ETA: 2:35 - loss: 0.0564 - acc: 0.987 - ETA: 2:34 - loss: 0.0546 - acc: 0.987 - ETA: 2:33 - loss: 0.0525 - acc: 0.988 - ETA: 2:32 - loss: 0.0510 - acc: 0.988 - ETA: 2:31 - loss: 0.0572 - acc: 0.985 - ETA: 2:30 - loss: 0.0563 - acc: 0.985 - ETA: 2:29 - loss: 0.0546 - acc: 0.986 - ETA: 2:28 - loss: 0.0531 - acc: 0.986 - ETA: 2:27 - loss: 0.0522 - acc: 0.987 - ETA: 2:26 - loss: 0.0522 - acc: 0.987 - ETA: 2:25 - loss: 0.0518 - acc: 0.987 - ETA: 2:24 - loss: 0.0509 - acc: 0.988 - ETA: 2:23 - loss: 0.0516 - acc: 0.988 - ETA: 2:22 - loss: 0.0504 - acc: 0.988 - ETA: 2:21 - loss: 0.0492 - acc: 0.989 - ETA: 2:21 - loss: 0.0489 - acc: 0.989 - ETA: 2:20 - loss: 0.0478 - acc: 0.989 - ETA: 2:19 - loss: 0.0501 - acc: 0.987 - ETA: 2:18 - loss: 0.0489 - acc: 0.987 - ETA: 2:17 - loss: 0.0488 - acc: 0.988 - ETA: 2:16 - loss: 0.0478 - acc: 0.988 - ETA: 2:15 - loss: 0.0544 - acc: 0.986 - ETA: 2:14 - loss: 0.0533 - acc: 0.986 - ETA: 2:13 - loss: 0.0528 - acc: 0.987 - ETA: 2:12 - loss: 0.0519 - acc: 0.987 - ETA: 2:11 - loss: 0.0518 - acc: 0.987 - ETA: 2:10 - loss: 0.0508 - acc: 0.987 - ETA: 2:09 - loss: 0.0507 - acc: 0.988 - ETA: 2:08 - loss: 0.0498 - acc: 0.988 - ETA: 2:07 - loss: 0.0495 - acc: 0.988 - ETA: 2:06 - loss: 0.0490 - acc: 0.988 - ETA: 2:05 - loss: 0.0481 - acc: 0.988 - ETA: 2:04 - loss: 0.0501 - acc: 0.987 - ETA: 2:03 - loss: 0.0493 - acc: 0.987 - ETA: 2:02 - loss: 0.0485 - acc: 0.987 - ETA: 2:01 - loss: 0.0478 - acc: 0.987 - ETA: 2:00 - loss: 0.0471 - acc: 0.988 - ETA: 1:59 - loss: 0.0464 - acc: 0.988 - ETA: 1:58 - loss: 0.0457 - acc: 0.988 - ETA: 1:57 - loss: 0.0452 - acc: 0.988 - ETA: 1:56 - loss: 0.0445 - acc: 0.988 - ETA: 1:55 - loss: 0.0439 - acc: 0.989 - ETA: 1:54 - loss: 0.0434 - acc: 0.989 - ETA: 1:53 - loss: 0.0461 - acc: 0.987 - ETA: 1:52 - loss: 0.0457 - acc: 0.988 - ETA: 1:51 - loss: 0.0456 - acc: 0.988 - ETA: 1:50 - loss: 0.0450 - acc: 0.988 - ETA: 1:49 - loss: 0.0524 - acc: 0.987 - ETA: 1:48 - loss: 0.0518 - acc: 0.987 - ETA: 1:47 - loss: 0.0514 - acc: 0.987 - ETA: 1:46 - loss: 0.0508 - acc: 0.987 - ETA: 1:45 - loss: 0.0502 - acc: 0.987 - ETA: 1:44 - loss: 0.0496 - acc: 0.988 - ETA: 1:43 - loss: 0.0495 - acc: 0.988 - ETA: 1:42 - loss: 0.0490 - acc: 0.988 - ETA: 1:41 - loss: 0.0484 - acc: 0.988 - ETA: 1:40 - loss: 0.0481 - acc: 0.988 - ETA: 1:39 - loss: 0.0509 - acc: 0.987 - ETA: 1:38 - loss: 0.0551 - acc: 0.986 - ETA: 1:37 - loss: 0.0547 - acc: 0.986 - ETA: 1:36 - loss: 0.0544 - acc: 0.986 - ETA: 1:35 - loss: 0.0538 - acc: 0.986 - ETA: 1:34 - loss: 0.0550 - acc: 0.985 - ETA: 1:33 - loss: 0.0545 - acc: 0.986 - ETA: 1:32 - loss: 0.0582 - acc: 0.985 - ETA: 1:31 - loss: 0.0651 - acc: 0.984 - ETA: 1:30 - loss: 0.0651 - acc: 0.984 - ETA: 1:29 - loss: 0.0648 - acc: 0.984 - ETA: 1:28 - loss: 0.0655 - acc: 0.983 - ETA: 1:27 - loss: 0.0650 - acc: 0.983 - ETA: 1:26 - loss: 0.0646 - acc: 0.983 - ETA: 1:25 - loss: 0.0712 - acc: 0.983 - ETA: 1:24 - loss: 0.0706 - acc: 0.983 - ETA: 1:23 - loss: 0.0702 - acc: 0.983 - ETA: 1:22 - loss: 0.0697 - acc: 0.983 - ETA: 1:21 - loss: 0.0692 - acc: 0.983 - ETA: 1:20 - loss: 0.0686 - acc: 0.983 - ETA: 1:19 - loss: 0.0717 - acc: 0.983 - ETA: 1:18 - loss: 0.0714 - acc: 0.983 - ETA: 1:17 - loss: 0.0715 - acc: 0.983 - ETA: 1:16 - loss: 0.0714 - acc: 0.983 - ETA: 1:15 - loss: 0.0717 - acc: 0.982 - ETA: 1:14 - loss: 0.0772 - acc: 0.981 - ETA: 1:13 - loss: 0.0772 - acc: 0.981 - ETA: 1:12 - loss: 0.0769 - acc: 0.981 - ETA: 1:11 - loss: 0.0769 - acc: 0.981 - ETA: 1:11 - loss: 0.0769 - acc: 0.981 - ETA: 1:10 - loss: 0.0766 - acc: 0.981 - ETA: 1:09 - loss: 0.0762 - acc: 0.982 - ETA: 1:08 - loss: 0.0758 - acc: 0.982 - ETA: 1:07 - loss: 0.0757 - acc: 0.982 - ETA: 1:06 - loss: 0.0754 - acc: 0.982 - ETA: 1:05 - loss: 0.0764 - acc: 0.981 - ETA: 1:04 - loss: 0.0759 - acc: 0.981 - ETA: 1:03 - loss: 0.0754 - acc: 0.982 - ETA: 1:02 - loss: 0.0793 - acc: 0.981 - ETA: 1:01 - loss: 0.0788 - acc: 0.981 - ETA: 1:00 - loss: 0.0788 - acc: 0.981 - ETA: 59s - loss: 0.0783 - acc: 0.981 - ETA: 58s - loss: 0.0783 - acc: 0.98 - ETA: 57s - loss: 0.0780 - acc: 0.98 - ETA: 56s - loss: 0.0780 - acc: 0.98 - ETA: 55s - loss: 0.0775 - acc: 0.98 - ETA: 54s - loss: 0.0770 - acc: 0.98 - ETA: 53s - loss: 0.0768 - acc: 0.98 - ETA: 52s - loss: 0.0763 - acc: 0.98 - ETA: 51s - loss: 0.0776 - acc: 0.98 - ETA: 50s - loss: 0.0800 - acc: 0.98 - ETA: 49s - loss: 0.0797 - acc: 0.98 - ETA: 48s - loss: 0.0795 - acc: 0.98 - ETA: 47s - loss: 0.0789 - acc: 0.98 - ETA: 46s - loss: 0.0784 - acc: 0.98 - ETA: 45s - loss: 0.0780 - acc: 0.98 - ETA: 44s - loss: 0.0775 - acc: 0.98 - ETA: 43s - loss: 0.0770 - acc: 0.98 - ETA: 42s - loss: 0.0792 - acc: 0.98 - ETA: 41s - loss: 0.0797 - acc: 0.98 - ETA: 40s - loss: 0.0805 - acc: 0.98 - ETA: 39s - loss: 0.0804 - acc: 0.98 - ETA: 38s - loss: 0.0801 - acc: 0.98 - ETA: 37s - loss: 0.0798 - acc: 0.98 - ETA: 36s - loss: 0.0795 - acc: 0.98 - ETA: 35s - loss: 0.0790 - acc: 0.98 - ETA: 34s - loss: 0.0786 - acc: 0.98 - ETA: 33s - loss: 0.0788 - acc: 0.98 - ETA: 32s - loss: 0.0783 - acc: 0.98 - ETA: 31s - loss: 0.0780 - acc: 0.98 - ETA: 30s - loss: 0.0778 - acc: 0.98 - ETA: 29s - loss: 0.0773 - acc: 0.98 - ETA: 28s - loss: 0.0770 - acc: 0.98 - ETA: 27s - loss: 0.0787 - acc: 0.97 - ETA: 26s - loss: 0.0783 - acc: 0.97 - ETA: 25s - loss: 0.0784 - acc: 0.98 - ETA: 24s - loss: 0.0810 - acc: 0.97 - ETA: 23s - loss: 0.0811 - acc: 0.97 - ETA: 22s - loss: 0.0807 - acc: 0.97 - ETA: 21s - loss: 0.0802 - acc: 0.97 - ETA: 20s - loss: 0.0806 - acc: 0.97 - ETA: 19s - loss: 0.0802 - acc: 0.97 - ETA: 18s - loss: 0.0798 - acc: 0.97 - ETA: 17s - loss: 0.0799 - acc: 0.97 - ETA: 16s - loss: 0.0811 - acc: 0.97 - ETA: 15s - loss: 0.0808 - acc: 0.97 - ETA: 14s - loss: 0.0827 - acc: 0.97 - ETA: 13s - loss: 0.0822 - acc: 0.97 - ETA: 12s - loss: 0.0886 - acc: 0.97 - ETA: 11s - loss: 0.0884 - acc: 0.97 - ETA: 10s - loss: 0.0881 - acc: 0.97 - ETA: 9s - loss: 0.0877 - acc: 0.9772 - ETA: 8s - loss: 0.0874 - acc: 0.977 - ETA: 7s - loss: 0.0871 - acc: 0.977 - ETA: 6s - loss: 0.0869 - acc: 0.977 - ETA: 5s - loss: 0.0901 - acc: 0.976 - ETA: 4s - loss: 0.0908 - acc: 0.975 - ETA: 3s - loss: 0.0903 - acc: 0.975 - ETA: 2s - loss: 0.0905 - acc: 0.975 - ETA: 1s - loss: 0.0901 - acc: 0.975 - ETA: 0s - loss: 0.0896 - acc: 0.975 - 216s 1s/step - loss: 0.0903 - acc: 0.9751 - val_loss: 0.0970 - val_acc: 0.9736\n",
      "Epoch 7/10\n"
     ]
    },
    {
     "name": "stdout",
     "output_type": "stream",
     "text": [
      "181/181 [==============================] - ETA: 2:56 - loss: 0.0028 - acc: 1.000 - ETA: 2:56 - loss: 0.0090 - acc: 1.000 - ETA: 2:55 - loss: 0.0502 - acc: 0.966 - ETA: 2:54 - loss: 0.1069 - acc: 0.950 - ETA: 2:53 - loss: 0.0864 - acc: 0.960 - ETA: 2:50 - loss: 0.0815 - acc: 0.966 - ETA: 2:49 - loss: 0.0738 - acc: 0.971 - ETA: 2:49 - loss: 0.0686 - acc: 0.975 - ETA: 2:48 - loss: 0.0641 - acc: 0.977 - ETA: 2:47 - loss: 0.0581 - acc: 0.980 - ETA: 2:46 - loss: 0.0962 - acc: 0.963 - ETA: 2:45 - loss: 0.0900 - acc: 0.966 - ETA: 2:45 - loss: 0.0834 - acc: 0.969 - ETA: 2:44 - loss: 0.1114 - acc: 0.964 - ETA: 2:43 - loss: 0.1087 - acc: 0.966 - ETA: 2:42 - loss: 0.1032 - acc: 0.968 - ETA: 2:41 - loss: 0.0981 - acc: 0.970 - ETA: 2:40 - loss: 0.0963 - acc: 0.972 - ETA: 2:39 - loss: 0.0920 - acc: 0.973 - ETA: 2:38 - loss: 0.0991 - acc: 0.965 - ETA: 2:37 - loss: 0.0962 - acc: 0.966 - ETA: 2:36 - loss: 0.1142 - acc: 0.963 - ETA: 2:35 - loss: 0.1191 - acc: 0.956 - ETA: 2:34 - loss: 0.1158 - acc: 0.958 - ETA: 2:33 - loss: 0.1144 - acc: 0.960 - ETA: 2:32 - loss: 0.1102 - acc: 0.961 - ETA: 2:31 - loss: 0.1066 - acc: 0.963 - ETA: 2:30 - loss: 0.1029 - acc: 0.964 - ETA: 2:29 - loss: 0.1071 - acc: 0.962 - ETA: 2:28 - loss: 0.1056 - acc: 0.963 - ETA: 2:27 - loss: 0.1031 - acc: 0.964 - ETA: 2:26 - loss: 0.1002 - acc: 0.965 - ETA: 2:25 - loss: 0.0973 - acc: 0.966 - ETA: 2:25 - loss: 0.0945 - acc: 0.967 - ETA: 2:24 - loss: 0.1105 - acc: 0.962 - ETA: 2:23 - loss: 0.1079 - acc: 0.963 - ETA: 2:22 - loss: 0.1104 - acc: 0.962 - ETA: 2:21 - loss: 0.1165 - acc: 0.960 - ETA: 2:20 - loss: 0.1145 - acc: 0.961 - ETA: 2:19 - loss: 0.1140 - acc: 0.960 - ETA: 2:18 - loss: 0.1128 - acc: 0.961 - ETA: 2:17 - loss: 0.1109 - acc: 0.961 - ETA: 2:16 - loss: 0.1091 - acc: 0.962 - ETA: 2:15 - loss: 0.1087 - acc: 0.963 - ETA: 2:14 - loss: 0.1071 - acc: 0.964 - ETA: 2:13 - loss: 0.1090 - acc: 0.963 - ETA: 2:12 - loss: 0.1099 - acc: 0.961 - ETA: 2:11 - loss: 0.1088 - acc: 0.962 - ETA: 2:10 - loss: 0.1110 - acc: 0.961 - ETA: 2:09 - loss: 0.1163 - acc: 0.960 - ETA: 2:08 - loss: 0.1154 - acc: 0.960 - ETA: 2:07 - loss: 0.1172 - acc: 0.959 - ETA: 2:06 - loss: 0.1152 - acc: 0.960 - ETA: 2:05 - loss: 0.1134 - acc: 0.961 - ETA: 2:04 - loss: 0.1146 - acc: 0.960 - ETA: 2:03 - loss: 0.1193 - acc: 0.957 - ETA: 2:02 - loss: 0.1284 - acc: 0.954 - ETA: 2:01 - loss: 0.1263 - acc: 0.955 - ETA: 2:00 - loss: 0.1243 - acc: 0.955 - ETA: 1:59 - loss: 0.1222 - acc: 0.956 - ETA: 1:58 - loss: 0.1274 - acc: 0.955 - ETA: 1:57 - loss: 0.1254 - acc: 0.956 - ETA: 1:56 - loss: 0.1238 - acc: 0.957 - ETA: 1:55 - loss: 0.1223 - acc: 0.957 - ETA: 1:54 - loss: 0.1225 - acc: 0.956 - ETA: 1:53 - loss: 0.1211 - acc: 0.957 - ETA: 1:52 - loss: 0.1197 - acc: 0.958 - ETA: 1:51 - loss: 0.1182 - acc: 0.958 - ETA: 1:50 - loss: 0.1186 - acc: 0.958 - ETA: 1:49 - loss: 0.1171 - acc: 0.958 - ETA: 1:48 - loss: 0.1156 - acc: 0.959 - ETA: 1:47 - loss: 0.1153 - acc: 0.959 - ETA: 1:46 - loss: 0.1138 - acc: 0.960 - ETA: 1:45 - loss: 0.1124 - acc: 0.960 - ETA: 1:44 - loss: 0.1111 - acc: 0.961 - ETA: 1:43 - loss: 0.1099 - acc: 0.961 - ETA: 1:42 - loss: 0.1088 - acc: 0.962 - ETA: 1:41 - loss: 0.1079 - acc: 0.962 - ETA: 1:40 - loss: 0.1067 - acc: 0.963 - ETA: 1:39 - loss: 0.1056 - acc: 0.963 - ETA: 1:38 - loss: 0.1060 - acc: 0.964 - ETA: 1:37 - loss: 0.1096 - acc: 0.962 - ETA: 1:36 - loss: 0.1084 - acc: 0.962 - ETA: 1:35 - loss: 0.1072 - acc: 0.963 - ETA: 1:34 - loss: 0.1121 - acc: 0.961 - ETA: 1:33 - loss: 0.1110 - acc: 0.961 - ETA: 1:32 - loss: 0.1098 - acc: 0.962 - ETA: 1:31 - loss: 0.1086 - acc: 0.962 - ETA: 1:30 - loss: 0.1074 - acc: 0.962 - ETA: 1:29 - loss: 0.1065 - acc: 0.963 - ETA: 1:28 - loss: 0.1054 - acc: 0.963 - ETA: 1:27 - loss: 0.1073 - acc: 0.963 - ETA: 1:26 - loss: 0.1061 - acc: 0.963 - ETA: 1:25 - loss: 0.1050 - acc: 0.963 - ETA: 1:24 - loss: 0.1101 - acc: 0.963 - ETA: 1:23 - loss: 0.1092 - acc: 0.963 - ETA: 1:22 - loss: 0.1082 - acc: 0.963 - ETA: 1:21 - loss: 0.1073 - acc: 0.964 - ETA: 1:20 - loss: 0.1065 - acc: 0.964 - ETA: 1:19 - loss: 0.1055 - acc: 0.965 - ETA: 1:18 - loss: 0.1045 - acc: 0.965 - ETA: 1:17 - loss: 0.1035 - acc: 0.965 - ETA: 1:16 - loss: 0.1025 - acc: 0.966 - ETA: 1:15 - loss: 0.1030 - acc: 0.965 - ETA: 1:14 - loss: 0.1022 - acc: 0.965 - ETA: 1:13 - loss: 0.1013 - acc: 0.966 - ETA: 1:12 - loss: 0.1004 - acc: 0.966 - ETA: 1:12 - loss: 0.0997 - acc: 0.966 - ETA: 1:11 - loss: 0.1019 - acc: 0.966 - ETA: 1:10 - loss: 0.1100 - acc: 0.965 - ETA: 1:09 - loss: 0.1092 - acc: 0.965 - ETA: 1:08 - loss: 0.1083 - acc: 0.966 - ETA: 1:07 - loss: 0.1074 - acc: 0.966 - ETA: 1:06 - loss: 0.1067 - acc: 0.966 - ETA: 1:05 - loss: 0.1101 - acc: 0.966 - ETA: 1:04 - loss: 0.1098 - acc: 0.966 - ETA: 1:03 - loss: 0.1092 - acc: 0.966 - ETA: 1:02 - loss: 0.1085 - acc: 0.966 - ETA: 1:01 - loss: 0.1082 - acc: 0.967 - ETA: 1:00 - loss: 0.1077 - acc: 0.967 - ETA: 59s - loss: 0.1070 - acc: 0.967 - ETA: 58s - loss: 0.1063 - acc: 0.96 - ETA: 57s - loss: 0.1060 - acc: 0.96 - ETA: 56s - loss: 0.1052 - acc: 0.96 - ETA: 55s - loss: 0.1046 - acc: 0.96 - ETA: 54s - loss: 0.1042 - acc: 0.96 - ETA: 53s - loss: 0.1034 - acc: 0.96 - ETA: 52s - loss: 0.1032 - acc: 0.96 - ETA: 51s - loss: 0.1030 - acc: 0.96 - ETA: 50s - loss: 0.1024 - acc: 0.97 - ETA: 49s - loss: 0.1017 - acc: 0.97 - ETA: 48s - loss: 0.1012 - acc: 0.97 - ETA: 47s - loss: 0.1004 - acc: 0.97 - ETA: 46s - loss: 0.0999 - acc: 0.97 - ETA: 45s - loss: 0.1009 - acc: 0.97 - ETA: 44s - loss: 0.1004 - acc: 0.97 - ETA: 43s - loss: 0.0999 - acc: 0.97 - ETA: 42s - loss: 0.0995 - acc: 0.97 - ETA: 41s - loss: 0.0996 - acc: 0.97 - ETA: 40s - loss: 0.0991 - acc: 0.97 - ETA: 39s - loss: 0.0984 - acc: 0.97 - ETA: 38s - loss: 0.1027 - acc: 0.97 - ETA: 37s - loss: 0.1021 - acc: 0.97 - ETA: 36s - loss: 0.1017 - acc: 0.97 - ETA: 35s - loss: 0.1014 - acc: 0.97 - ETA: 34s - loss: 0.1008 - acc: 0.97 - ETA: 33s - loss: 0.1001 - acc: 0.97 - ETA: 32s - loss: 0.0995 - acc: 0.97 - ETA: 31s - loss: 0.0989 - acc: 0.97 - ETA: 30s - loss: 0.0982 - acc: 0.97 - ETA: 29s - loss: 0.1006 - acc: 0.97 - ETA: 28s - loss: 0.1000 - acc: 0.97 - ETA: 27s - loss: 0.0995 - acc: 0.97 - ETA: 26s - loss: 0.0991 - acc: 0.97 - ETA: 25s - loss: 0.0998 - acc: 0.97 - ETA: 24s - loss: 0.0997 - acc: 0.97 - ETA: 23s - loss: 0.0990 - acc: 0.97 - ETA: 22s - loss: 0.0987 - acc: 0.97 - ETA: 21s - loss: 0.0990 - acc: 0.97 - ETA: 20s - loss: 0.0984 - acc: 0.97 - ETA: 19s - loss: 0.1004 - acc: 0.97 - ETA: 18s - loss: 0.0998 - acc: 0.97 - ETA: 17s - loss: 0.0992 - acc: 0.97 - ETA: 16s - loss: 0.0988 - acc: 0.97 - ETA: 15s - loss: 0.1001 - acc: 0.97 - ETA: 14s - loss: 0.0995 - acc: 0.97 - ETA: 13s - loss: 0.0989 - acc: 0.97 - ETA: 12s - loss: 0.0984 - acc: 0.97 - ETA: 11s - loss: 0.0979 - acc: 0.97 - ETA: 10s - loss: 0.0974 - acc: 0.97 - ETA: 9s - loss: 0.0968 - acc: 0.9725 - ETA: 8s - loss: 0.0964 - acc: 0.972 - ETA: 7s - loss: 0.0959 - acc: 0.972 - ETA: 6s - loss: 0.0957 - acc: 0.973 - ETA: 5s - loss: 0.0976 - acc: 0.972 - ETA: 4s - loss: 0.0971 - acc: 0.972 - ETA: 3s - loss: 0.0966 - acc: 0.972 - ETA: 2s - loss: 0.0966 - acc: 0.972 - ETA: 1s - loss: 0.0965 - acc: 0.972 - ETA: 0s - loss: 0.0961 - acc: 0.972 - 216s 1s/step - loss: 0.0967 - acc: 0.9718 - val_loss: 0.0940 - val_acc: 0.9714\n",
      "Epoch 8/10\n"
     ]
    },
    {
     "name": "stdout",
     "output_type": "stream",
     "text": [
      "181/181 [==============================] - ETA: 2:57 - loss: 0.0135 - acc: 1.000 - ETA: 2:56 - loss: 0.1506 - acc: 0.950 - ETA: 2:55 - loss: 0.1903 - acc: 0.933 - ETA: 2:54 - loss: 0.1692 - acc: 0.925 - ETA: 2:53 - loss: 0.1362 - acc: 0.940 - ETA: 2:52 - loss: 0.1154 - acc: 0.950 - ETA: 2:48 - loss: 0.1053 - acc: 0.957 - ETA: 2:48 - loss: 0.1219 - acc: 0.950 - ETA: 2:47 - loss: 0.1100 - acc: 0.955 - ETA: 2:46 - loss: 0.1020 - acc: 0.960 - ETA: 2:45 - loss: 0.0945 - acc: 0.963 - ETA: 2:45 - loss: 0.0879 - acc: 0.966 - ETA: 2:44 - loss: 0.0813 - acc: 0.969 - ETA: 2:43 - loss: 0.0806 - acc: 0.971 - ETA: 2:42 - loss: 0.0756 - acc: 0.973 - ETA: 2:41 - loss: 0.0718 - acc: 0.975 - ETA: 2:40 - loss: 0.0679 - acc: 0.976 - ETA: 2:39 - loss: 0.0964 - acc: 0.966 - ETA: 2:38 - loss: 0.0922 - acc: 0.968 - ETA: 2:37 - loss: 0.0888 - acc: 0.970 - ETA: 2:37 - loss: 0.0846 - acc: 0.971 - ETA: 2:36 - loss: 0.0816 - acc: 0.972 - ETA: 2:35 - loss: 0.0786 - acc: 0.973 - ETA: 2:34 - loss: 0.0774 - acc: 0.975 - ETA: 2:33 - loss: 0.0744 - acc: 0.976 - ETA: 2:32 - loss: 0.0758 - acc: 0.973 - ETA: 2:31 - loss: 0.0730 - acc: 0.974 - ETA: 2:30 - loss: 0.0730 - acc: 0.975 - ETA: 2:29 - loss: 0.0793 - acc: 0.972 - ETA: 2:28 - loss: 0.0771 - acc: 0.973 - ETA: 2:27 - loss: 0.1009 - acc: 0.971 - ETA: 2:26 - loss: 0.0980 - acc: 0.971 - ETA: 2:25 - loss: 0.0967 - acc: 0.972 - ETA: 2:24 - loss: 0.0941 - acc: 0.973 - ETA: 2:23 - loss: 0.0915 - acc: 0.974 - ETA: 2:22 - loss: 0.0891 - acc: 0.975 - ETA: 2:21 - loss: 0.0882 - acc: 0.975 - ETA: 2:20 - loss: 0.0862 - acc: 0.976 - ETA: 2:19 - loss: 0.0843 - acc: 0.976 - ETA: 2:18 - loss: 0.0824 - acc: 0.977 - ETA: 2:17 - loss: 0.0807 - acc: 0.978 - ETA: 2:16 - loss: 0.0789 - acc: 0.978 - ETA: 2:15 - loss: 0.0773 - acc: 0.979 - ETA: 2:14 - loss: 0.0768 - acc: 0.979 - ETA: 2:13 - loss: 0.0935 - acc: 0.975 - ETA: 2:12 - loss: 0.0916 - acc: 0.976 - ETA: 2:11 - loss: 0.0943 - acc: 0.974 - ETA: 2:10 - loss: 0.0937 - acc: 0.975 - ETA: 2:09 - loss: 0.0919 - acc: 0.975 - ETA: 2:08 - loss: 0.0901 - acc: 0.976 - ETA: 2:07 - loss: 0.0887 - acc: 0.976 - ETA: 2:06 - loss: 0.0927 - acc: 0.975 - ETA: 2:05 - loss: 0.0911 - acc: 0.975 - ETA: 2:04 - loss: 0.0983 - acc: 0.974 - ETA: 2:04 - loss: 0.1009 - acc: 0.972 - ETA: 2:03 - loss: 0.0994 - acc: 0.973 - ETA: 2:02 - loss: 0.0978 - acc: 0.973 - ETA: 2:01 - loss: 0.0965 - acc: 0.974 - ETA: 2:00 - loss: 0.0983 - acc: 0.972 - ETA: 1:59 - loss: 0.0969 - acc: 0.973 - ETA: 1:58 - loss: 0.0957 - acc: 0.973 - ETA: 1:57 - loss: 0.1006 - acc: 0.971 - ETA: 1:56 - loss: 0.1058 - acc: 0.969 - ETA: 1:55 - loss: 0.1048 - acc: 0.970 - ETA: 1:54 - loss: 0.1033 - acc: 0.970 - ETA: 1:53 - loss: 0.1129 - acc: 0.966 - ETA: 1:52 - loss: 0.1116 - acc: 0.967 - ETA: 1:51 - loss: 0.1124 - acc: 0.966 - ETA: 1:50 - loss: 0.1120 - acc: 0.966 - ETA: 1:49 - loss: 0.1116 - acc: 0.967 - ETA: 1:48 - loss: 0.1106 - acc: 0.967 - ETA: 1:47 - loss: 0.1103 - acc: 0.966 - ETA: 1:46 - loss: 0.1094 - acc: 0.967 - ETA: 1:45 - loss: 0.1083 - acc: 0.967 - ETA: 1:44 - loss: 0.1076 - acc: 0.968 - ETA: 1:43 - loss: 0.1065 - acc: 0.968 - ETA: 1:42 - loss: 0.1058 - acc: 0.968 - ETA: 1:41 - loss: 0.1049 - acc: 0.969 - ETA: 1:40 - loss: 0.1039 - acc: 0.969 - ETA: 1:39 - loss: 0.1055 - acc: 0.968 - ETA: 1:38 - loss: 0.1043 - acc: 0.969 - ETA: 1:37 - loss: 0.1031 - acc: 0.969 - ETA: 1:36 - loss: 0.1020 - acc: 0.969 - ETA: 1:35 - loss: 0.1012 - acc: 0.970 - ETA: 1:34 - loss: 0.1002 - acc: 0.970 - ETA: 1:33 - loss: 0.0992 - acc: 0.970 - ETA: 1:32 - loss: 0.0981 - acc: 0.971 - ETA: 1:31 - loss: 0.0972 - acc: 0.971 - ETA: 1:30 - loss: 0.0963 - acc: 0.971 - ETA: 1:29 - loss: 0.0952 - acc: 0.972 - ETA: 1:28 - loss: 0.0943 - acc: 0.972 - ETA: 1:27 - loss: 0.0991 - acc: 0.971 - ETA: 1:26 - loss: 0.0982 - acc: 0.972 - ETA: 1:25 - loss: 0.0976 - acc: 0.972 - ETA: 1:24 - loss: 0.0968 - acc: 0.972 - ETA: 1:23 - loss: 0.0961 - acc: 0.972 - ETA: 1:22 - loss: 0.0952 - acc: 0.973 - ETA: 1:21 - loss: 0.0943 - acc: 0.973 - ETA: 1:20 - loss: 0.0934 - acc: 0.973 - ETA: 1:19 - loss: 0.0947 - acc: 0.973 - ETA: 1:18 - loss: 0.0946 - acc: 0.973 - ETA: 1:17 - loss: 0.0976 - acc: 0.972 - ETA: 1:16 - loss: 0.0967 - acc: 0.972 - ETA: 1:15 - loss: 0.0959 - acc: 0.973 - ETA: 1:14 - loss: 0.0964 - acc: 0.972 - ETA: 1:13 - loss: 0.0964 - acc: 0.971 - ETA: 1:12 - loss: 0.0962 - acc: 0.972 - ETA: 1:11 - loss: 0.0954 - acc: 0.972 - ETA: 1:10 - loss: 0.0947 - acc: 0.972 - ETA: 1:09 - loss: 0.0939 - acc: 0.972 - ETA: 1:08 - loss: 0.0931 - acc: 0.973 - ETA: 1:07 - loss: 0.0925 - acc: 0.973 - ETA: 1:07 - loss: 0.0921 - acc: 0.973 - ETA: 1:06 - loss: 0.0914 - acc: 0.973 - ETA: 1:05 - loss: 0.0915 - acc: 0.973 - ETA: 1:04 - loss: 0.0910 - acc: 0.973 - ETA: 1:03 - loss: 0.0905 - acc: 0.973 - ETA: 1:02 - loss: 0.0899 - acc: 0.973 - ETA: 1:01 - loss: 0.0908 - acc: 0.973 - ETA: 1:00 - loss: 0.0901 - acc: 0.973 - ETA: 59s - loss: 0.0903 - acc: 0.972 - ETA: 58s - loss: 0.0896 - acc: 0.97 - ETA: 57s - loss: 0.0894 - acc: 0.97 - ETA: 56s - loss: 0.0887 - acc: 0.97 - ETA: 55s - loss: 0.0881 - acc: 0.97 - ETA: 54s - loss: 0.0900 - acc: 0.97 - ETA: 53s - loss: 0.0894 - acc: 0.97 - ETA: 52s - loss: 0.0890 - acc: 0.97 - ETA: 51s - loss: 0.0883 - acc: 0.97 - ETA: 50s - loss: 0.0885 - acc: 0.97 - ETA: 49s - loss: 0.0897 - acc: 0.97 - ETA: 48s - loss: 0.0890 - acc: 0.97 - ETA: 47s - loss: 0.0884 - acc: 0.97 - ETA: 46s - loss: 0.0878 - acc: 0.97 - ETA: 45s - loss: 0.0904 - acc: 0.97 - ETA: 44s - loss: 0.0908 - acc: 0.97 - ETA: 43s - loss: 0.0908 - acc: 0.97 - ETA: 42s - loss: 0.0914 - acc: 0.97 - ETA: 41s - loss: 0.0912 - acc: 0.97 - ETA: 40s - loss: 0.0906 - acc: 0.97 - ETA: 39s - loss: 0.0904 - acc: 0.97 - ETA: 38s - loss: 0.0934 - acc: 0.97 - ETA: 37s - loss: 0.0937 - acc: 0.97 - ETA: 36s - loss: 0.0931 - acc: 0.97 - ETA: 35s - loss: 0.0925 - acc: 0.97 - ETA: 34s - loss: 0.0929 - acc: 0.97 - ETA: 33s - loss: 0.0924 - acc: 0.97 - ETA: 32s - loss: 0.0933 - acc: 0.97 - ETA: 31s - loss: 0.0927 - acc: 0.97 - ETA: 30s - loss: 0.0948 - acc: 0.96 - ETA: 29s - loss: 0.0942 - acc: 0.96 - ETA: 28s - loss: 0.0936 - acc: 0.96 - ETA: 27s - loss: 0.0931 - acc: 0.96 - ETA: 26s - loss: 0.0930 - acc: 0.97 - ETA: 25s - loss: 0.0925 - acc: 0.97 - ETA: 24s - loss: 0.0929 - acc: 0.96 - ETA: 23s - loss: 0.0924 - acc: 0.97 - ETA: 22s - loss: 0.0918 - acc: 0.97 - ETA: 21s - loss: 0.0913 - acc: 0.97 - ETA: 20s - loss: 0.0908 - acc: 0.97 - ETA: 19s - loss: 0.0903 - acc: 0.97 - ETA: 18s - loss: 0.0907 - acc: 0.97 - ETA: 17s - loss: 0.0903 - acc: 0.97 - ETA: 16s - loss: 0.0908 - acc: 0.96 - ETA: 15s - loss: 0.0903 - acc: 0.96 - ETA: 14s - loss: 0.0916 - acc: 0.96 - ETA: 13s - loss: 0.0910 - acc: 0.96 - ETA: 12s - loss: 0.0905 - acc: 0.96 - ETA: 11s - loss: 0.0900 - acc: 0.96 - ETA: 10s - loss: 0.0905 - acc: 0.96 - ETA: 9s - loss: 0.0903 - acc: 0.9696 - ETA: 8s - loss: 0.0897 - acc: 0.969 - ETA: 7s - loss: 0.0893 - acc: 0.969 - ETA: 6s - loss: 0.0888 - acc: 0.970 - ETA: 5s - loss: 0.0886 - acc: 0.970 - ETA: 4s - loss: 0.0882 - acc: 0.970 - ETA: 3s - loss: 0.0878 - acc: 0.970 - ETA: 2s - loss: 0.0874 - acc: 0.970 - ETA: 1s - loss: 0.0890 - acc: 0.970 - ETA: 0s - loss: 0.0892 - acc: 0.970 - 216s 1s/step - loss: 0.0889 - acc: 0.9702 - val_loss: 0.0775 - val_acc: 0.9736\n",
      "Epoch 9/10\n"
     ]
    },
    {
     "name": "stdout",
     "output_type": "stream",
     "text": [
      "181/181 [==============================] - ETA: 2:57 - loss: 0.0029 - acc: 1.000 - ETA: 2:56 - loss: 0.0035 - acc: 1.000 - ETA: 2:55 - loss: 0.0109 - acc: 1.000 - ETA: 2:54 - loss: 0.0110 - acc: 1.000 - ETA: 2:53 - loss: 0.0099 - acc: 1.000 - ETA: 2:52 - loss: 0.0143 - acc: 1.000 - ETA: 2:51 - loss: 0.0481 - acc: 0.985 - ETA: 2:48 - loss: 0.0432 - acc: 0.987 - ETA: 2:47 - loss: 0.0439 - acc: 0.988 - ETA: 2:46 - loss: 0.0431 - acc: 0.990 - ETA: 2:46 - loss: 0.0412 - acc: 0.990 - ETA: 2:45 - loss: 0.0419 - acc: 0.991 - ETA: 2:44 - loss: 0.0390 - acc: 0.992 - ETA: 2:43 - loss: 0.0368 - acc: 0.992 - ETA: 2:42 - loss: 0.0344 - acc: 0.993 - ETA: 2:41 - loss: 0.0478 - acc: 0.987 - ETA: 2:40 - loss: 0.0451 - acc: 0.988 - ETA: 2:39 - loss: 0.0434 - acc: 0.988 - ETA: 2:39 - loss: 0.0430 - acc: 0.989 - ETA: 2:38 - loss: 0.0419 - acc: 0.990 - ETA: 2:37 - loss: 0.0402 - acc: 0.990 - ETA: 2:36 - loss: 0.0564 - acc: 0.986 - ETA: 2:35 - loss: 0.0745 - acc: 0.982 - ETA: 2:34 - loss: 0.0864 - acc: 0.975 - ETA: 2:33 - loss: 0.0856 - acc: 0.976 - ETA: 2:32 - loss: 0.0836 - acc: 0.976 - ETA: 2:31 - loss: 0.0810 - acc: 0.977 - ETA: 2:30 - loss: 0.0793 - acc: 0.978 - ETA: 2:29 - loss: 0.0772 - acc: 0.979 - ETA: 2:28 - loss: 0.0769 - acc: 0.980 - ETA: 2:27 - loss: 0.0758 - acc: 0.980 - ETA: 2:26 - loss: 0.0737 - acc: 0.981 - ETA: 2:25 - loss: 0.0728 - acc: 0.981 - ETA: 2:24 - loss: 0.0710 - acc: 0.982 - ETA: 2:23 - loss: 0.0694 - acc: 0.982 - ETA: 2:22 - loss: 0.0677 - acc: 0.983 - ETA: 2:21 - loss: 0.0660 - acc: 0.983 - ETA: 2:20 - loss: 0.0675 - acc: 0.981 - ETA: 2:19 - loss: 0.0660 - acc: 0.982 - ETA: 2:18 - loss: 0.0654 - acc: 0.982 - ETA: 2:17 - loss: 0.0642 - acc: 0.982 - ETA: 2:16 - loss: 0.0674 - acc: 0.981 - ETA: 2:15 - loss: 0.0663 - acc: 0.981 - ETA: 2:14 - loss: 0.0650 - acc: 0.981 - ETA: 2:13 - loss: 0.0636 - acc: 0.982 - ETA: 2:12 - loss: 0.0624 - acc: 0.982 - ETA: 2:11 - loss: 0.0616 - acc: 0.983 - ETA: 2:10 - loss: 0.0604 - acc: 0.983 - ETA: 2:10 - loss: 0.0595 - acc: 0.983 - ETA: 2:09 - loss: 0.0584 - acc: 0.984 - ETA: 2:08 - loss: 0.0589 - acc: 0.982 - ETA: 2:07 - loss: 0.0582 - acc: 0.982 - ETA: 2:06 - loss: 0.0572 - acc: 0.983 - ETA: 2:05 - loss: 0.0563 - acc: 0.983 - ETA: 2:04 - loss: 0.0554 - acc: 0.983 - ETA: 2:03 - loss: 0.0585 - acc: 0.980 - ETA: 2:02 - loss: 0.0581 - acc: 0.980 - ETA: 2:01 - loss: 0.0585 - acc: 0.979 - ETA: 2:00 - loss: 0.0586 - acc: 0.979 - ETA: 1:59 - loss: 0.0579 - acc: 0.980 - ETA: 1:58 - loss: 0.0570 - acc: 0.980 - ETA: 1:57 - loss: 0.0564 - acc: 0.980 - ETA: 1:56 - loss: 0.0556 - acc: 0.981 - ETA: 1:55 - loss: 0.0548 - acc: 0.981 - ETA: 1:54 - loss: 0.0547 - acc: 0.981 - ETA: 1:53 - loss: 0.0539 - acc: 0.981 - ETA: 1:52 - loss: 0.0531 - acc: 0.982 - ETA: 1:51 - loss: 0.0524 - acc: 0.982 - ETA: 1:50 - loss: 0.0517 - acc: 0.982 - ETA: 1:49 - loss: 0.0510 - acc: 0.982 - ETA: 1:48 - loss: 0.0628 - acc: 0.981 - ETA: 1:47 - loss: 0.0619 - acc: 0.981 - ETA: 1:46 - loss: 0.0620 - acc: 0.982 - ETA: 1:45 - loss: 0.0613 - acc: 0.982 - ETA: 1:44 - loss: 0.0609 - acc: 0.982 - ETA: 1:43 - loss: 0.0602 - acc: 0.982 - ETA: 1:42 - loss: 0.0605 - acc: 0.981 - ETA: 1:41 - loss: 0.0598 - acc: 0.982 - ETA: 1:40 - loss: 0.0592 - acc: 0.982 - ETA: 1:39 - loss: 0.0601 - acc: 0.981 - ETA: 1:38 - loss: 0.0594 - acc: 0.981 - ETA: 1:37 - loss: 0.0588 - acc: 0.981 - ETA: 1:36 - loss: 0.0618 - acc: 0.980 - ETA: 1:35 - loss: 0.0613 - acc: 0.981 - ETA: 1:34 - loss: 0.0606 - acc: 0.981 - ETA: 1:33 - loss: 0.0600 - acc: 0.981 - ETA: 1:32 - loss: 0.0595 - acc: 0.981 - ETA: 1:31 - loss: 0.0589 - acc: 0.981 - ETA: 1:30 - loss: 0.0598 - acc: 0.980 - ETA: 1:29 - loss: 0.0655 - acc: 0.977 - ETA: 1:28 - loss: 0.0648 - acc: 0.978 - ETA: 1:27 - loss: 0.0645 - acc: 0.978 - ETA: 1:26 - loss: 0.0641 - acc: 0.978 - ETA: 1:25 - loss: 0.0639 - acc: 0.978 - ETA: 1:24 - loss: 0.0647 - acc: 0.977 - ETA: 1:23 - loss: 0.0642 - acc: 0.978 - ETA: 1:22 - loss: 0.0639 - acc: 0.978 - ETA: 1:21 - loss: 0.0639 - acc: 0.978 - ETA: 1:20 - loss: 0.0639 - acc: 0.978 - ETA: 1:19 - loss: 0.0643 - acc: 0.978 - ETA: 1:18 - loss: 0.0642 - acc: 0.978 - ETA: 1:17 - loss: 0.0643 - acc: 0.978 - ETA: 1:16 - loss: 0.0644 - acc: 0.978 - ETA: 1:15 - loss: 0.0707 - acc: 0.976 - ETA: 1:14 - loss: 0.0725 - acc: 0.976 - ETA: 1:13 - loss: 0.0720 - acc: 0.976 - ETA: 1:12 - loss: 0.0719 - acc: 0.976 - ETA: 1:11 - loss: 0.0716 - acc: 0.976 - ETA: 1:10 - loss: 0.0710 - acc: 0.977 - ETA: 1:10 - loss: 0.0704 - acc: 0.977 - ETA: 1:09 - loss: 0.0699 - acc: 0.977 - ETA: 1:08 - loss: 0.0705 - acc: 0.976 - ETA: 1:07 - loss: 0.0712 - acc: 0.976 - ETA: 1:06 - loss: 0.0707 - acc: 0.976 - ETA: 1:05 - loss: 0.0701 - acc: 0.976 - ETA: 1:04 - loss: 0.0696 - acc: 0.976 - ETA: 1:03 - loss: 0.0691 - acc: 0.976 - ETA: 1:02 - loss: 0.0695 - acc: 0.976 - ETA: 1:01 - loss: 0.0690 - acc: 0.976 - ETA: 1:00 - loss: 0.0686 - acc: 0.976 - ETA: 59s - loss: 0.0694 - acc: 0.976 - ETA: 58s - loss: 0.0689 - acc: 0.97 - ETA: 57s - loss: 0.0691 - acc: 0.97 - ETA: 56s - loss: 0.0686 - acc: 0.97 - ETA: 55s - loss: 0.0681 - acc: 0.97 - ETA: 54s - loss: 0.0679 - acc: 0.97 - ETA: 53s - loss: 0.0673 - acc: 0.97 - ETA: 52s - loss: 0.0668 - acc: 0.97 - ETA: 51s - loss: 0.0663 - acc: 0.97 - ETA: 50s - loss: 0.0659 - acc: 0.97 - ETA: 49s - loss: 0.0655 - acc: 0.97 - ETA: 48s - loss: 0.0660 - acc: 0.97 - ETA: 47s - loss: 0.0656 - acc: 0.97 - ETA: 46s - loss: 0.0652 - acc: 0.97 - ETA: 45s - loss: 0.0661 - acc: 0.97 - ETA: 44s - loss: 0.0657 - acc: 0.97 - ETA: 43s - loss: 0.0656 - acc: 0.97 - ETA: 42s - loss: 0.0651 - acc: 0.97 - ETA: 41s - loss: 0.0661 - acc: 0.97 - ETA: 40s - loss: 0.0661 - acc: 0.97 - ETA: 39s - loss: 0.0657 - acc: 0.97 - ETA: 38s - loss: 0.0654 - acc: 0.97 - ETA: 37s - loss: 0.0649 - acc: 0.97 - ETA: 36s - loss: 0.0645 - acc: 0.97 - ETA: 35s - loss: 0.0641 - acc: 0.97 - ETA: 34s - loss: 0.0637 - acc: 0.97 - ETA: 33s - loss: 0.0634 - acc: 0.97 - ETA: 32s - loss: 0.0630 - acc: 0.97 - ETA: 31s - loss: 0.0632 - acc: 0.97 - ETA: 30s - loss: 0.0628 - acc: 0.97 - ETA: 29s - loss: 0.0624 - acc: 0.97 - ETA: 28s - loss: 0.0620 - acc: 0.97 - ETA: 27s - loss: 0.0624 - acc: 0.97 - ETA: 26s - loss: 0.0640 - acc: 0.97 - ETA: 25s - loss: 0.0649 - acc: 0.97 - ETA: 24s - loss: 0.0645 - acc: 0.97 - ETA: 23s - loss: 0.0655 - acc: 0.97 - ETA: 22s - loss: 0.0651 - acc: 0.97 - ETA: 21s - loss: 0.0647 - acc: 0.97 - ETA: 20s - loss: 0.0643 - acc: 0.97 - ETA: 19s - loss: 0.0664 - acc: 0.97 - ETA: 18s - loss: 0.0660 - acc: 0.97 - ETA: 17s - loss: 0.0656 - acc: 0.97 - ETA: 16s - loss: 0.0652 - acc: 0.97 - ETA: 15s - loss: 0.0649 - acc: 0.97 - ETA: 14s - loss: 0.0645 - acc: 0.97 - ETA: 13s - loss: 0.0642 - acc: 0.97 - ETA: 12s - loss: 0.0653 - acc: 0.97 - ETA: 11s - loss: 0.0650 - acc: 0.97 - ETA: 10s - loss: 0.0647 - acc: 0.97 - ETA: 9s - loss: 0.0643 - acc: 0.9778 - ETA: 8s - loss: 0.0639 - acc: 0.977 - ETA: 7s - loss: 0.0636 - acc: 0.978 - ETA: 6s - loss: 0.0632 - acc: 0.978 - ETA: 5s - loss: 0.0630 - acc: 0.978 - ETA: 4s - loss: 0.0626 - acc: 0.978 - ETA: 3s - loss: 0.0623 - acc: 0.978 - ETA: 2s - loss: 0.0620 - acc: 0.978 - ETA: 1s - loss: 0.0646 - acc: 0.978 - ETA: 0s - loss: 0.0664 - acc: 0.977 - 216s 1s/step - loss: 0.0660 - acc: 0.9773 - val_loss: 0.0996 - val_acc: 0.9758\n",
      "Epoch 10/10\n"
     ]
    },
    {
     "name": "stdout",
     "output_type": "stream",
     "text": [
      "181/181 [==============================] - ETA: 2:57 - loss: 0.4130 - acc: 0.900 - ETA: 2:56 - loss: 0.2358 - acc: 0.950 - ETA: 2:55 - loss: 0.1820 - acc: 0.966 - ETA: 2:54 - loss: 0.1380 - acc: 0.975 - ETA: 2:54 - loss: 0.1111 - acc: 0.980 - ETA: 2:53 - loss: 0.1118 - acc: 0.966 - ETA: 2:52 - loss: 0.1158 - acc: 0.957 - ETA: 2:51 - loss: 0.1048 - acc: 0.962 - ETA: 2:48 - loss: 0.0963 - acc: 0.966 - ETA: 2:47 - loss: 0.0873 - acc: 0.970 - ETA: 2:46 - loss: 0.0805 - acc: 0.972 - ETA: 2:45 - loss: 0.0966 - acc: 0.966 - ETA: 2:44 - loss: 0.0967 - acc: 0.961 - ETA: 2:44 - loss: 0.0900 - acc: 0.964 - ETA: 2:43 - loss: 0.0867 - acc: 0.966 - ETA: 2:42 - loss: 0.0819 - acc: 0.968 - ETA: 2:41 - loss: 0.0995 - acc: 0.964 - ETA: 2:40 - loss: 0.0947 - acc: 0.966 - ETA: 2:39 - loss: 0.0972 - acc: 0.963 - ETA: 2:38 - loss: 0.0928 - acc: 0.965 - ETA: 2:37 - loss: 0.0890 - acc: 0.966 - ETA: 2:36 - loss: 0.0901 - acc: 0.963 - ETA: 2:35 - loss: 0.0871 - acc: 0.965 - ETA: 2:34 - loss: 0.0843 - acc: 0.966 - ETA: 2:33 - loss: 0.0815 - acc: 0.968 - ETA: 2:32 - loss: 0.0797 - acc: 0.969 - ETA: 2:31 - loss: 0.0783 - acc: 0.970 - ETA: 2:30 - loss: 0.0758 - acc: 0.971 - ETA: 2:29 - loss: 0.0743 - acc: 0.972 - ETA: 2:28 - loss: 0.0727 - acc: 0.973 - ETA: 2:27 - loss: 0.0705 - acc: 0.974 - ETA: 2:26 - loss: 0.0687 - acc: 0.975 - ETA: 2:25 - loss: 0.0668 - acc: 0.975 - ETA: 2:24 - loss: 0.0674 - acc: 0.976 - ETA: 2:23 - loss: 0.0738 - acc: 0.974 - ETA: 2:22 - loss: 0.0729 - acc: 0.975 - ETA: 2:21 - loss: 0.0985 - acc: 0.973 - ETA: 2:20 - loss: 0.1004 - acc: 0.971 - ETA: 2:19 - loss: 0.0978 - acc: 0.971 - ETA: 2:18 - loss: 0.0957 - acc: 0.972 - ETA: 2:17 - loss: 0.0936 - acc: 0.973 - ETA: 2:16 - loss: 0.0918 - acc: 0.973 - ETA: 2:16 - loss: 0.0937 - acc: 0.972 - ETA: 2:15 - loss: 0.1040 - acc: 0.970 - ETA: 2:14 - loss: 0.1019 - acc: 0.971 - ETA: 2:13 - loss: 0.0998 - acc: 0.971 - ETA: 2:12 - loss: 0.1018 - acc: 0.970 - ETA: 2:11 - loss: 0.1038 - acc: 0.968 - ETA: 2:10 - loss: 0.1060 - acc: 0.967 - ETA: 2:09 - loss: 0.1040 - acc: 0.968 - ETA: 2:08 - loss: 0.1026 - acc: 0.968 - ETA: 2:07 - loss: 0.1008 - acc: 0.969 - ETA: 2:06 - loss: 0.1026 - acc: 0.967 - ETA: 2:05 - loss: 0.1015 - acc: 0.968 - ETA: 2:04 - loss: 0.1001 - acc: 0.969 - ETA: 2:03 - loss: 0.0986 - acc: 0.969 - ETA: 2:02 - loss: 0.0972 - acc: 0.970 - ETA: 2:01 - loss: 0.0957 - acc: 0.970 - ETA: 2:00 - loss: 0.0950 - acc: 0.971 - ETA: 1:59 - loss: 0.0936 - acc: 0.971 - ETA: 1:58 - loss: 0.0936 - acc: 0.972 - ETA: 1:57 - loss: 0.0944 - acc: 0.972 - ETA: 1:56 - loss: 0.0930 - acc: 0.973 - ETA: 1:55 - loss: 0.0918 - acc: 0.973 - ETA: 1:54 - loss: 0.0994 - acc: 0.972 - ETA: 1:53 - loss: 0.0989 - acc: 0.972 - ETA: 1:52 - loss: 0.0976 - acc: 0.973 - ETA: 1:51 - loss: 0.0962 - acc: 0.973 - ETA: 1:50 - loss: 0.0949 - acc: 0.973 - ETA: 1:49 - loss: 0.0937 - acc: 0.974 - ETA: 1:48 - loss: 0.0931 - acc: 0.974 - ETA: 1:47 - loss: 0.0920 - acc: 0.975 - ETA: 1:46 - loss: 0.0907 - acc: 0.975 - ETA: 1:45 - loss: 0.0896 - acc: 0.975 - ETA: 1:44 - loss: 0.0889 - acc: 0.976 - ETA: 1:43 - loss: 0.0881 - acc: 0.976 - ETA: 1:42 - loss: 0.0873 - acc: 0.976 - ETA: 1:41 - loss: 0.0862 - acc: 0.976 - ETA: 1:40 - loss: 0.0852 - acc: 0.977 - ETA: 1:39 - loss: 0.0844 - acc: 0.977 - ETA: 1:38 - loss: 0.0834 - acc: 0.977 - ETA: 1:37 - loss: 0.0824 - acc: 0.978 - ETA: 1:36 - loss: 0.0815 - acc: 0.978 - ETA: 1:35 - loss: 0.0806 - acc: 0.978 - ETA: 1:34 - loss: 0.0801 - acc: 0.978 - ETA: 1:33 - loss: 0.0792 - acc: 0.979 - ETA: 1:32 - loss: 0.0812 - acc: 0.978 - ETA: 1:31 - loss: 0.0803 - acc: 0.978 - ETA: 1:30 - loss: 0.0795 - acc: 0.978 - ETA: 1:29 - loss: 0.0855 - acc: 0.977 - ETA: 1:28 - loss: 0.0856 - acc: 0.976 - ETA: 1:27 - loss: 0.0847 - acc: 0.977 - ETA: 1:26 - loss: 0.0839 - acc: 0.977 - ETA: 1:25 - loss: 0.0838 - acc: 0.977 - ETA: 1:24 - loss: 0.0830 - acc: 0.977 - ETA: 1:23 - loss: 0.0824 - acc: 0.978 - ETA: 1:22 - loss: 0.0827 - acc: 0.977 - ETA: 1:21 - loss: 0.0834 - acc: 0.976 - ETA: 1:20 - loss: 0.0826 - acc: 0.976 - ETA: 1:19 - loss: 0.0827 - acc: 0.976 - ETA: 1:18 - loss: 0.0821 - acc: 0.976 - ETA: 1:17 - loss: 0.0813 - acc: 0.976 - ETA: 1:16 - loss: 0.0806 - acc: 0.976 - ETA: 1:15 - loss: 0.0822 - acc: 0.976 - ETA: 1:14 - loss: 0.0816 - acc: 0.976 - ETA: 1:13 - loss: 0.0809 - acc: 0.976 - ETA: 1:12 - loss: 0.0812 - acc: 0.975 - ETA: 1:12 - loss: 0.0876 - acc: 0.975 - ETA: 1:11 - loss: 0.0879 - acc: 0.975 - ETA: 1:10 - loss: 0.0872 - acc: 0.975 - ETA: 1:09 - loss: 0.0868 - acc: 0.975 - ETA: 1:08 - loss: 0.0860 - acc: 0.975 - ETA: 1:07 - loss: 0.0854 - acc: 0.976 - ETA: 1:06 - loss: 0.0848 - acc: 0.976 - ETA: 1:05 - loss: 0.0843 - acc: 0.976 - ETA: 1:04 - loss: 0.0837 - acc: 0.976 - ETA: 1:03 - loss: 0.0854 - acc: 0.976 - ETA: 1:02 - loss: 0.0847 - acc: 0.976 - ETA: 1:01 - loss: 0.0841 - acc: 0.976 - ETA: 1:00 - loss: 0.0835 - acc: 0.976 - ETA: 59s - loss: 0.0829 - acc: 0.976 - ETA: 58s - loss: 0.0827 - acc: 0.97 - ETA: 57s - loss: 0.0821 - acc: 0.97 - ETA: 56s - loss: 0.0816 - acc: 0.97 - ETA: 55s - loss: 0.0816 - acc: 0.97 - ETA: 54s - loss: 0.0811 - acc: 0.97 - ETA: 53s - loss: 0.0806 - acc: 0.97 - ETA: 52s - loss: 0.0800 - acc: 0.97 - ETA: 51s - loss: 0.0795 - acc: 0.97 - ETA: 50s - loss: 0.0813 - acc: 0.97 - ETA: 49s - loss: 0.0808 - acc: 0.97 - ETA: 48s - loss: 0.0809 - acc: 0.97 - ETA: 47s - loss: 0.0804 - acc: 0.97 - ETA: 46s - loss: 0.0799 - acc: 0.97 - ETA: 45s - loss: 0.0793 - acc: 0.97 - ETA: 44s - loss: 0.0798 - acc: 0.97 - ETA: 43s - loss: 0.0793 - acc: 0.97 - ETA: 42s - loss: 0.0788 - acc: 0.97 - ETA: 41s - loss: 0.0783 - acc: 0.97 - ETA: 40s - loss: 0.0778 - acc: 0.97 - ETA: 39s - loss: 0.0788 - acc: 0.97 - ETA: 38s - loss: 0.0787 - acc: 0.97 - ETA: 37s - loss: 0.0785 - acc: 0.97 - ETA: 36s - loss: 0.0780 - acc: 0.97 - ETA: 35s - loss: 0.0775 - acc: 0.97 - ETA: 34s - loss: 0.0771 - acc: 0.97 - ETA: 33s - loss: 0.0766 - acc: 0.97 - ETA: 32s - loss: 0.0761 - acc: 0.97 - ETA: 31s - loss: 0.0787 - acc: 0.97 - ETA: 30s - loss: 0.0784 - acc: 0.97 - ETA: 29s - loss: 0.0779 - acc: 0.97 - ETA: 28s - loss: 0.0774 - acc: 0.97 - ETA: 27s - loss: 0.0771 - acc: 0.97 - ETA: 26s - loss: 0.0767 - acc: 0.97 - ETA: 25s - loss: 0.0765 - acc: 0.97 - ETA: 24s - loss: 0.0762 - acc: 0.97 - ETA: 23s - loss: 0.0762 - acc: 0.97 - ETA: 22s - loss: 0.0757 - acc: 0.97 - ETA: 21s - loss: 0.0757 - acc: 0.97 - ETA: 20s - loss: 0.0753 - acc: 0.98 - ETA: 19s - loss: 0.0749 - acc: 0.98 - ETA: 18s - loss: 0.0746 - acc: 0.98 - ETA: 17s - loss: 0.0743 - acc: 0.98 - ETA: 16s - loss: 0.0739 - acc: 0.98 - ETA: 15s - loss: 0.0736 - acc: 0.98 - ETA: 14s - loss: 0.0738 - acc: 0.98 - ETA: 13s - loss: 0.0740 - acc: 0.97 - ETA: 12s - loss: 0.0753 - acc: 0.97 - ETA: 11s - loss: 0.0750 - acc: 0.97 - ETA: 10s - loss: 0.0746 - acc: 0.97 - ETA: 9s - loss: 0.0742 - acc: 0.9795 - ETA: 8s - loss: 0.0737 - acc: 0.979 - ETA: 7s - loss: 0.0733 - acc: 0.979 - ETA: 6s - loss: 0.0729 - acc: 0.979 - ETA: 5s - loss: 0.0726 - acc: 0.980 - ETA: 4s - loss: 0.0722 - acc: 0.980 - ETA: 3s - loss: 0.0735 - acc: 0.979 - ETA: 2s - loss: 0.0732 - acc: 0.979 - ETA: 1s - loss: 0.0748 - acc: 0.979 - ETA: 0s - loss: 0.0761 - acc: 0.978 - 216s 1s/step - loss: 0.0758 - acc: 0.9790 - val_loss: 0.0921 - val_acc: 0.9758\n"
     ]
    }
   ],
   "source": [
    "from keras.preprocessing.image import ImageDataGenerator\n",
    "\n",
    "batch_size = 10\n",
    "epochs = 10\n",
    "\n",
    "# used for image augmentation \n",
    "train_datagen = ImageDataGenerator(\n",
    "        rotation_range=30, \n",
    "        width_shift_range=0.1,\n",
    "        height_shift_range=0.1, \n",
    "        horizontal_flip=True)\n",
    "\n",
    "train_datagen.fit(X_train)\n",
    "\n",
    "history = mycnn1.fit_generator(\n",
    "    train_datagen.flow(X_train, y_train, batch_size=batch_size),\n",
    "    steps_per_epoch=X_train.shape[0] // batch_size,\n",
    "    epochs=epochs,\n",
    "    validation_data=(X_val, y_val))\n",
    "\n",
    "\n"
   ]
  },
  {
   "cell_type": "code",
   "execution_count": 41,
   "metadata": {},
   "outputs": [
    {
     "name": "stdout",
     "output_type": "stream",
     "text": [
      "acc: [0.9116022042641982, 0.9540929140242855, 0.9640486659729375, 0.9679203483119475, 0.9684734457889489, 0.9751106158426378, 0.9717920313103009, 0.9701327385496249, 0.9773230050913001, 0.9789822958739458]\n",
      "val_acc: [0.9648351603811913, 0.9648351590711992, 0.9670329617929982, 0.9604395549375933, 0.9692307645147973, 0.9736263673384111, 0.9714285659266042, 0.9736263686484032, 0.9758241713702024, 0.9758241713702024]\n",
      "loss: [0.4305443077062601, 0.14707338077387572, 0.11794974877544374, 0.10892138972913741, 0.09794963657890371, 0.09038088046901847, 0.09677700804330225, 0.08895025437296496, 0.06610821354933355, 0.075833186747557]\n",
      "val_loss: [0.17398277167000573, 0.13926366371726925, 0.12917137311152335, 0.12697631711841326, 0.11098240012722602, 0.09695306769828056, 0.09400280301937587, 0.07752884796738707, 0.09960728962515522, 0.0921195640723134]\n"
     ]
    }
   ],
   "source": [
    "acc = history.history['acc']\n",
    "val_acc = history.history['val_acc']\n",
    "loss = history.history['loss']\n",
    "val_loss = history.history['val_loss']\n",
    "print('acc:', acc)\n",
    "print('val_acc:', val_acc)\n",
    "print('loss:' , loss)\n",
    "print('val_loss:', val_loss)"
   ]
  },
  {
   "cell_type": "code",
   "execution_count": 46,
   "metadata": {},
   "outputs": [
    {
     "name": "stdout",
     "output_type": "stream",
     "text": [
      "569/569 [==============================] - ETA: 45 - ETA: 44 - ETA: 44 - ETA: 44 - ETA: 45 - ETA: 45 - ETA: 44 - ETA: 44 - ETA: 43 - ETA: 42 - ETA: 41 - ETA: 41 - ETA: 40 - ETA: 39 - ETA: 38 - ETA: 38 - ETA: 37 - ETA: 36 - ETA: 36 - ETA: 36 - ETA: 35 - ETA: 34 - ETA: 33 - ETA: 32 - ETA: 31 - ETA: 30 - ETA: 29 - ETA: 28 - ETA: 27 - ETA: 26 - ETA: 25 - ETA: 24 - ETA: 23 - ETA: 22 - ETA: 21 - ETA: 20 - ETA: 19 - ETA: 18 - ETA: 17 - ETA: 16 - ETA: 15 - ETA: 14 - ETA: 13 - ETA: 12 - ETA: 11 - ETA: 10 - ETA: 9 - ETA:  - ETA:  - ETA:  - ETA:  - ETA:  - ETA:  - ETA:  - ETA:  - ETA:  - 60s 105ms/step\n"
     ]
    },
    {
     "data": {
      "text/plain": [
       "[0.10189760806276461, 0.9771528975196798]"
      ]
     },
     "execution_count": 46,
     "metadata": {},
     "output_type": "execute_result"
    }
   ],
   "source": [
    "mycnn1.evaluate(X_test, y_test, batch_size = 10)"
   ]
  },
  {
   "cell_type": "code",
   "execution_count": 87,
   "metadata": {},
   "outputs": [],
   "source": [
    "mycnn1.save('wids.model') #saving the model for future direct use"
   ]
  },
  {
   "cell_type": "markdown",
   "metadata": {},
   "source": [
    "Now that the model is trained and gives an accuracy of 97.7% we can give it the actual testing data and visualise its prediction "
   ]
  },
  {
   "cell_type": "code",
   "execution_count": 103,
   "metadata": {},
   "outputs": [
    {
     "name": "stdout",
     "output_type": "stream",
     "text": [
      "[1.]\n"
     ]
    },
    {
     "data": {
      "image/png": "[encoded data removed]",
      "text/plain": [
       "<Figure size 432x288 with 1 Axes>"
      ]
     },
     "metadata": {
      "needs_background": "light"
     },
     "output_type": "display_data"
    }
   ],
   "source": [
    "plt.imshow(cv2.cvtColor(Xtest[243].reshape(256,256,3), cv2.COLOR_BGR2RGB)) \n",
    "predict = mycnn1.predict(Xtest[243].reshape(1, 256, 256, 3))\n",
    "print(pred[0])\n",
    "#25,41,86,88,112,122,1017 for 1\n",
    "#96 confusing"
   ]
  },
  {
   "cell_type": "code",
   "execution_count": 104,
   "metadata": {},
   "outputs": [],
   "source": [
    "pred = mycnn1.predict(Xtest, batch_size=10)\n"
   ]
  },
  {
   "cell_type": "code",
   "execution_count": 114,
   "metadata": {},
   "outputs": [
    {
     "name": "stdout",
     "output_type": "stream",
     "text": [
      "(6534, 1)\n"
     ]
    }
   ],
   "source": [
    "print(pred.shape)\n"
   ]
  },
  {
   "cell_type": "markdown",
   "metadata": {},
   "source": [
    "Using histogram to visualise the predictions which shows a lot of images lying near zero that is referring to images that don't have oil palm and the images that give a prediction value near 1 is more likely to contain oil palm"
   ]
  },
  {
   "cell_type": "code",
   "execution_count": 133,
   "metadata": {},
   "outputs": [
    {
     "data": {
      "image/png": "[encoded data removed]",
      "text/plain": [
       "<Figure size 432x288 with 1 Axes>"
      ]
     },
     "metadata": {
      "needs_background": "light"
     },
     "output_type": "display_data"
    }
   ],
   "source": [
    "import matplotlib.pyplot as plt\n",
    "plt.hist(pred,bins=50)\n",
    "plt.show()"
   ]
  },
  {
   "cell_type": "markdown",
   "metadata": {},
   "source": [
    "Keeping a threshold of 0.2 and considering all the probabilities that lie above it in label 1 category that is actually images having oil palm and the rest as label 0 "
   ]
  },
  {
   "cell_type": "code",
   "execution_count": 128,
   "metadata": {},
   "outputs": [],
   "source": [
    "for i, id in enumerate(img_id):\n",
    "    prediction = 1 if pred[i]>0.2 else 0\n",
    "    samplesubmission.loc[samplesubmission['image_id'] == id, 'has_oilpalm'] = prediction\n",
    "\n",
    "samplesubmission.to_csv(\"submit_kk9.csv\", index=False)"
   ]
  },
  {
   "cell_type": "markdown",
   "metadata": {},
   "source": [
    "Achieved a leaderboard score of 0.95358 "
   ]
  },
  {
   "cell_type": "code",
   "execution_count": null,
   "metadata": {},
   "outputs": [],
   "source": []
  }
 ],
 "metadata": {
  "kernelspec": {
   "display_name": "Python 3",
   "language": "python",
   "name": "python3"
  },
  "language_info": {
   "codemirror_mode": {
    "name": "ipython",
    "version": 3
   },
   "file_extension": ".py",
   "mimetype": "text/x-python",
   "name": "python",
   "nbconvert_exporter": "python",
   "pygments_lexer": "ipython3",
   "version": "3.6.8"
  }
 },
 "nbformat": 4,
 "nbformat_minor": 2
}
